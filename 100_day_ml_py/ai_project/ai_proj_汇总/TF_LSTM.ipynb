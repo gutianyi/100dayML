{
 "cells": [
  {
   "cell_type": "code",
   "execution_count": 1,
   "metadata": {},
   "outputs": [],
   "source": [
    "import tensorflow as tf\n",
    "import numpy as np\n",
    "import os\n",
    "import random\n",
    "from tensorflow import keras\n",
    "from tensorflow.python.ops.rnn import static_rnn\n",
    "from tensorflow.python.ops.rnn_cell_impl import BasicLSTMCell"
   ]
  },
  {
   "cell_type": "markdown",
   "metadata": {},
   "source": [
    "# Prama Define"
   ]
  },
  {
   "cell_type": "code",
   "execution_count": 2,
   "metadata": {},
   "outputs": [],
   "source": [
    "vocab_size=5000\n",
    "max_seq_num = 380 #句子最大长度\n",
    "num_dimensions = 50 #词向量长度 \n",
    "batch_size = 100 # batch的尺寸\n",
    "num_labels = 2  # 输出的类别数\n",
    "iterations = 3750 # 迭代的次数 \n",
    "dropout_keep_prob = 0.8  # dropout保留比例\n",
    "learning_rate = 1e-3"
   ]
  },
  {
   "cell_type": "markdown",
   "metadata": {},
   "source": [
    "# IMDB Dataset Import"
   ]
  },
  {
   "cell_type": "code",
   "execution_count": 3,
   "metadata": {},
   "outputs": [],
   "source": [
    "imdb = keras.datasets.imdb\n",
    "(train_data, train_labels), (test_data, test_labels) = imdb.load_data(num_words=vocab_size)"
   ]
  },
  {
   "cell_type": "code",
   "execution_count": 4,
   "metadata": {},
   "outputs": [
    {
     "name": "stdout",
     "output_type": "stream",
     "text": [
      "25000\n",
      "25000\n"
     ]
    }
   ],
   "source": [
    "#Size of train data and Test data\n",
    "print(len(train_data))\n",
    "print(len(test_data))"
   ]
  },
  {
   "cell_type": "code",
   "execution_count": 5,
   "metadata": {},
   "outputs": [
    {
     "name": "stdout",
     "output_type": "stream",
     "text": [
      "[1, 14, 22, 16, 43, 530, 973, 1622, 1385, 65, 458, 4468, 66, 3941, 4, 173, 36, 256, 5, 25, 100, 43, 838, 112, 50, 670, 2, 9, 35, 480, 284, 5, 150, 4, 172, 112, 167, 2, 336, 385, 39, 4, 172, 4536, 1111, 17, 546, 38, 13, 447, 4, 192, 50, 16, 6, 147, 2025, 19, 14, 22, 4, 1920, 4613, 469, 4, 22, 71, 87, 12, 16, 43, 530, 38, 76, 15, 13, 1247, 4, 22, 17, 515, 17, 12, 16, 626, 18, 2, 5, 62, 386, 12, 8, 316, 8, 106, 5, 4, 2223, 2, 16, 480, 66, 3785, 33, 4, 130, 12, 16, 38, 619, 5, 25, 124, 51, 36, 135, 48, 25, 1415, 33, 6, 22, 12, 215, 28, 77, 52, 5, 14, 407, 16, 82, 2, 8, 4, 107, 117, 2, 15, 256, 4, 2, 7, 3766, 5, 723, 36, 71, 43, 530, 476, 26, 400, 317, 46, 7, 4, 2, 1029, 13, 104, 88, 4, 381, 15, 297, 98, 32, 2071, 56, 26, 141, 6, 194, 2, 18, 4, 226, 22, 21, 134, 476, 26, 480, 5, 144, 30, 2, 18, 51, 36, 28, 224, 92, 25, 104, 4, 226, 65, 16, 38, 1334, 88, 12, 16, 283, 5, 16, 4472, 113, 103, 32, 15, 16, 2, 19, 178, 32]\n"
     ]
    }
   ],
   "source": [
    "#Showcase of data example\n",
    "print(train_data[0])"
   ]
  },
  {
   "cell_type": "markdown",
   "metadata": {},
   "source": [
    "Transform num vector data into word to have a intuitive view"
   ]
  },
  {
   "cell_type": "code",
   "execution_count": 6,
   "metadata": {},
   "outputs": [],
   "source": [
    "# 字典:用于将数字转向单词\n",
    "word_index = imdb.get_word_index()\n",
    " \n",
    "# key值不变，value值加3，并新增了4个键值对\n",
    "word_index = {k:(v+3) for k,v in word_index.items()}\n",
    "word_index[\"<PAD>\"] = 0 # 用来将每一个sentence扩充到同等长度\n",
    "word_index[\"<START>\"] = 1\n",
    "word_index[\"<UNK>\"] = 2 # 未知，可能是生僻单词或是人名\n",
    "word_index[\"UNUSED\"] = 3\n",
    " \n",
    "# 将键值对的键与值互换\n",
    "reverse_word_index = dict([(value,key) for (key,value) in word_index.items()])\n",
    " \n",
    "# 转译为原句\n",
    "def decode_review(text):\n",
    "    return ' '.join([reverse_word_index.get(i,'?') for i in text])"
   ]
  },
  {
   "cell_type": "code",
   "execution_count": 7,
   "metadata": {},
   "outputs": [
    {
     "data": {
      "text/plain": [
       "\"<START> this film was just brilliant casting location scenery story direction everyone's really suited the part they played and you could just imagine being there robert <UNK> is an amazing actor and now the same being director <UNK> father came from the same scottish island as myself so i loved the fact there was a real connection with this film the witty remarks throughout the film were great it was just brilliant so much that i bought the film as soon as it was released for <UNK> and would recommend it to everyone to watch and the fly <UNK> was amazing really cried at the end it was so sad and you know what they say if you cry at a film it must have been good and this definitely was also <UNK> to the two little <UNK> that played the <UNK> of norman and paul they were just brilliant children are often left out of the <UNK> list i think because the stars that play them all grown up are such a big <UNK> for the whole film but these children are amazing and should be <UNK> for what they have done don't you think the whole story was so lovely because it was true and was someone's life after all that was <UNK> with us all\""
      ]
     },
     "execution_count": 7,
     "metadata": {},
     "output_type": "execute_result"
    }
   ],
   "source": [
    "decode_review(train_data[0])"
   ]
  },
  {
   "cell_type": "markdown",
   "metadata": {},
   "source": [
    "Pad each piece of data"
   ]
  },
  {
   "cell_type": "code",
   "execution_count": 8,
   "metadata": {},
   "outputs": [],
   "source": [
    "train_data = keras.preprocessing.sequence.pad_sequences(train_data,maxlen=max_seq_num) \n",
    "test_data = keras.preprocessing.sequence.pad_sequences(test_data,maxlen=max_seq_num)"
   ]
  },
  {
   "cell_type": "markdown",
   "metadata": {},
   "source": [
    "# TF Graph Building"
   ]
  },
  {
   "cell_type": "code",
   "execution_count": 9,
   "metadata": {},
   "outputs": [
    {
     "name": "stdout",
     "output_type": "stream",
     "text": [
      "WARNING:tensorflow:From C:\\ProgramData\\Anaconda3\\lib\\site-packages\\tensorflow_core\\python\\ops\\resource_variable_ops.py:1630: calling BaseResourceVariable.__init__ (from tensorflow.python.ops.resource_variable_ops) with constraint is deprecated and will be removed in a future version.\n",
      "Instructions for updating:\n",
      "If using Keras pass *_constraint arguments to layers.\n",
      "rnn_input shape:380,(None, 50)\n",
      "WARNING:tensorflow:From <ipython-input-9-30b1d2af2ef4>:11: BasicLSTMCell.__init__ (from tensorflow.python.ops.rnn_cell_impl) is deprecated and will be removed in a future version.\n",
      "Instructions for updating:\n",
      "This class is equivalent as tf.keras.layers.LSTMCell, and will be replaced by that in Tensorflow 2.0.\n",
      "WARNING:tensorflow:From <ipython-input-9-30b1d2af2ef4>:14: static_rnn (from tensorflow.python.ops.rnn) is deprecated and will be removed in a future version.\n",
      "Instructions for updating:\n",
      "Please use `keras.layers.RNN(cell, unroll=True)`, which is equivalent to this API\n",
      "WARNING:tensorflow:From C:\\ProgramData\\Anaconda3\\lib\\site-packages\\tensorflow_core\\python\\ops\\rnn_cell_impl.py:735: Layer.add_variable (from tensorflow.python.keras.engine.base_layer) is deprecated and will be removed in a future version.\n",
      "Instructions for updating:\n",
      "Please use `layer.add_weight` method instead.\n",
      "WARNING:tensorflow:From C:\\ProgramData\\Anaconda3\\lib\\site-packages\\tensorflow_core\\python\\ops\\rnn_cell_impl.py:739: calling Zeros.__init__ (from tensorflow.python.ops.init_ops) with dtype is deprecated and will be removed in a future version.\n",
      "Instructions for updating:\n",
      "Call initializer instance with the dtype argument instead of passing it to the constructor\n",
      "rnn_outputs shape:380,(None, 64)\n",
      "rnn_states shape:2,(None, 64)\n",
      "WARNING:tensorflow:From <ipython-input-9-30b1d2af2ef4>:20: dense (from tensorflow.python.layers.core) is deprecated and will be removed in a future version.\n",
      "Instructions for updating:\n",
      "Use keras.layers.Dense instead.\n",
      "WARNING:tensorflow:From C:\\ProgramData\\Anaconda3\\lib\\site-packages\\tensorflow_core\\python\\layers\\core.py:187: Layer.apply (from tensorflow.python.keras.engine.base_layer) is deprecated and will be removed in a future version.\n",
      "Instructions for updating:\n",
      "Please use `layer.__call__` method instead.\n"
     ]
    }
   ],
   "source": [
    "tf.compat.v1.disable_eager_execution()#在版本2.0下关闭急切运行模式，解决占位符模式冲突\n",
    "tf.compat.v1.reset_default_graph()\n",
    "X_holder = tf.compat.v1.placeholder(tf.int32, [None, max_seq_num])#Input_size of each: max_seq_num\n",
    "Y_holder = tf.compat.v1.placeholder(tf.int32, [None])\n",
    "embedding = tf.compat.v1.get_variable('embedding', [vocab_size, num_dimensions])#Embedding each piece of data into a vector\n",
    "embedding_inputs = tf.nn.embedding_lookup(embedding, X_holder)\n",
    "#Embedding result as RNN input\n",
    "rnn_input = tf.unstack(embedding_inputs, max_seq_num, axis=1)\n",
    "#一个由380个50维向量组成的二维张量\n",
    "print(\"rnn_input shape:%s,%s\"%(len(rnn_input),rnn_input[0].shape))\n",
    "lstm_cell = BasicLSTMCell(64, forget_bias=1.0)\n",
    "#将LSTM_CELL后面加dropout\n",
    "lstm_cell = tf.compat.v1.nn.rnn_cell.DropoutWrapper(lstm_cell, output_keep_prob=dropout_keep_prob)\n",
    "rnn_outputs, rnn_states = static_rnn(lstm_cell, rnn_input, dtype=tf.float32)\n",
    "# rnn_outputs是一个max_seq_num长度的数组，数组元素是(batch_size,64【LSTM细胞数】)张量\n",
    "print(\"rnn_outputs shape:%s,%s\"%(len(rnn_outputs),rnn_outputs[0].shape))\n",
    "# rnn_states是一个2长度的数组，数组元素是(batch_size,64张量\n",
    "print(\"rnn_states shape:%s,%s\"%(len(rnn_states),rnn_states[0].shape))\n",
    "#分类器\n",
    "logits = tf.compat.v1.layers.dense(rnn_outputs[-1], num_labels)\n",
    "predict_Y = tf.argmax(logits, axis=1)"
   ]
  },
  {
   "cell_type": "markdown",
   "metadata": {},
   "source": [
    "input: hidden state of LSTM\n",
    "output:0/1 二分类"
   ]
  },
  {
   "cell_type": "code",
   "execution_count": 10,
   "metadata": {},
   "outputs": [],
   "source": [
    "#测试集样本的正确或错误，计算交叉熵\n",
    "losses = tf.nn.softmax_cross_entropy_with_logits(labels=tf.one_hot(Y_holder, num_labels), logits = logits)\n",
    "mean_loss = tf.reduce_mean(losses)\n",
    "optimizer = tf.compat.v1.train.AdamOptimizer(learning_rate).minimize(mean_loss)\n",
    "correct_pred = tf.equal(Y_holder, tf.cast(predict_Y, dtype=tf.int32))\n",
    "accuracy = tf.reduce_mean(tf.cast(correct_pred, tf.float32))"
   ]
  },
  {
   "cell_type": "code",
   "execution_count": 11,
   "metadata": {},
   "outputs": [],
   "source": [
    "# training\n",
    "# 全局初始化\n",
    "init = tf.compat.v1.global_variables_initializer()\n",
    "session = tf.compat.v1.Session()\n",
    "session.run(init)"
   ]
  },
  {
   "cell_type": "code",
   "execution_count": 12,
   "metadata": {},
   "outputs": [],
   "source": [
    "iterations = 5000 # 迭代的次数 \n",
    "steps = np.zeros(iterations)\n",
    "ACC = np.zeros_like(steps)\n",
    "MSE= np.zeros_like(steps)"
   ]
  },
  {
   "cell_type": "code",
   "execution_count": 13,
   "metadata": {},
   "outputs": [],
   "source": [
    "import time"
   ]
  },
  {
   "cell_type": "code",
   "execution_count": 14,
   "metadata": {
    "scrolled": true
   },
   "outputs": [
    {
     "name": "stderr",
     "output_type": "stream",
     "text": [
      "C:\\ProgramData\\Anaconda3\\lib\\site-packages\\ipykernel_launcher.py:1: DeprecationWarning: time.clock has been deprecated in Python 3.3 and will be removed from Python 3.8: use time.perf_counter or time.process_time instead\n",
      "  \"\"\"Entry point for launching an IPython kernel.\n"
     ]
    },
    {
     "name": "stdout",
     "output_type": "stream",
     "text": [
      "begin training\n",
      "step = 0\t mean loss =0.6938297748565674 acc =0.4399999976158142\n",
      "step = 100\t mean loss =0.5363131165504456 acc =0.7300000190734863\n",
      "step = 200\t mean loss =0.33659180998802185 acc =0.8700000047683716\n",
      "step = 300\t mean loss =0.2612231969833374 acc =0.8899999856948853\n",
      "step = 400\t mean loss =0.1726425588130951 acc =0.9100000262260437\n",
      "step = 500\t mean loss =0.2415950894355774 acc =0.9200000166893005\n",
      "step = 600\t mean loss =0.1869545727968216 acc =0.9200000166893005\n",
      "step = 700\t mean loss =0.22242766618728638 acc =0.9100000262260437\n",
      "step = 800\t mean loss =0.1663917899131775 acc =0.9300000071525574\n",
      "step = 900\t mean loss =0.30607113242149353 acc =0.8999999761581421\n",
      "step = 1000\t mean loss =0.09201348572969437 acc =0.9700000286102295\n",
      "step = 1100\t mean loss =0.18271896243095398 acc =0.9399999976158142\n",
      "step = 1200\t mean loss =0.1260845810174942 acc =0.9700000286102295\n",
      "step = 1300\t mean loss =0.12462357431650162 acc =0.9399999976158142\n",
      "step = 1400\t mean loss =0.054190926253795624 acc =0.9900000095367432\n",
      "step = 1500\t mean loss =0.06474757939577103 acc =0.9900000095367432\n",
      "step = 1600\t mean loss =0.21880197525024414 acc =0.949999988079071\n",
      "step = 1700\t mean loss =0.14099779725074768 acc =0.9599999785423279\n",
      "step = 1800\t mean loss =0.08624578267335892 acc =0.9599999785423279\n",
      "step = 1900\t mean loss =0.03656042739748955 acc =1.0\n",
      "step = 2000\t mean loss =0.0954042449593544 acc =0.9800000190734863\n",
      "step = 2100\t mean loss =0.03129923716187477 acc =1.0\n",
      "step = 2200\t mean loss =0.1449824571609497 acc =0.949999988079071\n",
      "step = 2300\t mean loss =0.05352148413658142 acc =0.9900000095367432\n",
      "step = 2400\t mean loss =0.07974166423082352 acc =0.9800000190734863\n",
      "step = 2500\t mean loss =0.10846250504255295 acc =0.949999988079071\n",
      "step = 2600\t mean loss =0.5914304256439209 acc =0.7599999904632568\n",
      "step = 2700\t mean loss =0.042292505502700806 acc =0.9800000190734863\n",
      "step = 2800\t mean loss =0.041466135531663895 acc =0.9800000190734863\n",
      "step = 2900\t mean loss =0.09623512625694275 acc =0.9700000286102295\n",
      "step = 3000\t mean loss =0.06146203354001045 acc =0.9800000190734863\n",
      "step = 3100\t mean loss =0.07734031975269318 acc =0.9800000190734863\n",
      "step = 3200\t mean loss =0.020594079047441483 acc =1.0\n",
      "step = 3300\t mean loss =0.03276309743523598 acc =0.9900000095367432\n",
      "step = 3400\t mean loss =0.09672459959983826 acc =0.9700000286102295\n",
      "step = 3500\t mean loss =0.019448058679699898 acc =1.0\n",
      "step = 3600\t mean loss =0.1885862797498703 acc =0.9300000071525574\n",
      "step = 3700\t mean loss =0.10003063082695007 acc =0.9700000286102295\n",
      "step = 3800\t mean loss =0.05975014343857765 acc =0.9700000286102295\n",
      "step = 3900\t mean loss =0.056651268154382706 acc =0.9900000095367432\n",
      "step = 4000\t mean loss =0.0698452740907669 acc =0.9800000190734863\n",
      "step = 4100\t mean loss =0.06454408913850784 acc =0.9800000190734863\n",
      "step = 4200\t mean loss =0.07410630583763123 acc =0.9700000286102295\n",
      "step = 4300\t mean loss =0.02795097604393959 acc =0.9800000190734863\n",
      "step = 4400\t mean loss =0.026861106976866722 acc =0.9900000095367432\n",
      "step = 4500\t mean loss =0.009323902428150177 acc =1.0\n",
      "step = 4600\t mean loss =0.06364310532808304 acc =0.9900000095367432\n",
      "step = 4700\t mean loss =0.011902090162038803 acc =1.0\n",
      "step = 4800\t mean loss =0.46514397859573364 acc =0.8399999737739563\n",
      "step = 4900\t mean loss =0.19433973729610443 acc =0.8999999761581421\n"
     ]
    },
    {
     "name": "stderr",
     "output_type": "stream",
     "text": [
      "C:\\ProgramData\\Anaconda3\\lib\\site-packages\\ipykernel_launcher.py:19: DeprecationWarning: time.clock has been deprecated in Python 3.3 and will be removed from Python 3.8: use time.perf_counter or time.process_time instead\n"
     ]
    }
   ],
   "source": [
    "start = time.clock()\n",
    "with tf.compat.v1.Session() as sess:\n",
    "    sess.run(tf.compat.v1.global_variables_initializer())\n",
    "    print (\"begin training\")\n",
    "    # 训练\n",
    "    for step in range(iterations):\n",
    "        #selected_index = random.sample(list(range(len(train_data))), k=batch_size)\n",
    "        selected_index = np.random.choice(len(train_data),size=batch_size)\n",
    "        batch_X = train_data[selected_index]\n",
    "        batch_Y = train_labels[selected_index]\n",
    "        feed_dict = {X_holder: batch_X, Y_holder: batch_Y}\n",
    "        _, mean_loss_val,accuracy_value = sess.run([optimizer, mean_loss,accuracy], feed_dict=feed_dict)\n",
    "        steps[step]=step\n",
    "        ACC[step] = accuracy_value\n",
    "        MSE[step] = mean_loss_val\n",
    "        #print(\"rnn_outputs shape:%s,%s\"%(len(rnn_outputs),rnn_outputs[0].shape))\n",
    "        if step%100 == 0:\n",
    "            print (\"step = {}\\t mean loss ={} acc ={}\".format(step, mean_loss_val,accuracy_value))\n",
    "elapsed = (time.clock() - start)"
   ]
  },
  {
   "cell_type": "code",
   "execution_count": 15,
   "metadata": {},
   "outputs": [
    {
     "name": "stdout",
     "output_type": "stream",
     "text": [
      "Time used: 1947.5265663\n"
     ]
    }
   ],
   "source": [
    "print(\"Time used:\",elapsed)"
   ]
  },
  {
   "cell_type": "code",
   "execution_count": 16,
   "metadata": {},
   "outputs": [
    {
     "name": "stdout",
     "output_type": "stream",
     "text": [
      "Model saved in file:  ./model/model_lstm_5000.ckpt\n"
     ]
    }
   ],
   "source": [
    "saver = tf.compat.v1.train.Saver()\n",
    "with tf.compat.v1.Session() as sess:\n",
    "    sess.run(init)\n",
    "    # 存储Session工作空间\n",
    "    saver_path = saver.save(sess, \"./model/model_lstm_5000.ckpt\")\n",
    "    print (\"Model saved in file: \", saver_path)"
   ]
  },
  {
   "cell_type": "markdown",
   "metadata": {},
   "source": [
    "# 训练曲线"
   ]
  },
  {
   "cell_type": "code",
   "execution_count": 18,
   "metadata": {},
   "outputs": [
    {
     "data": {
      "image/png": "[encoded data removed]",
      "text/plain": [
       "<Figure size 432x288 with 1 Axes>"
      ]
     },
     "metadata": {
      "needs_background": "light"
     },
     "output_type": "display_data"
    }
   ],
   "source": [
    "# plt image\n",
    "import matplotlib.pyplot as plt\n",
    "plt.plot(steps,ACC,label='acc')\n",
    "plt.xlabel('step')\n",
    "plt.ylabel('acc')\n",
    "plt.show()"
   ]
  },
  {
   "cell_type": "code",
   "execution_count": 19,
   "metadata": {},
   "outputs": [
    {
     "data": {
      "image/png": "[encoded data removed]",
      "text/plain": [
       "<Figure size 432x288 with 1 Axes>"
      ]
     },
     "metadata": {
      "needs_background": "light"
     },
     "output_type": "display_data"
    }
   ],
   "source": [
    "# plt image\n",
    "import matplotlib.pyplot as plt\n",
    "plt.plot(steps,MSE,label='mse')\n",
    "plt.xlabel('step')\n",
    "plt.ylabel('mse')\n",
    "plt.show()"
   ]
  },
  {
   "cell_type": "markdown",
   "metadata": {},
   "source": [
    "# Testset Evaluate：ACC, LOSS"
   ]
  },
  {
   "cell_type": "code",
   "execution_count": 20,
   "metadata": {},
   "outputs": [],
   "source": [
    "def batch_iter(x, y, batch_size=64):\n",
    "    \"\"\"生成批次数据\"\"\"\n",
    "    data_len = len(x)\n",
    "    num_batch = int((data_len - 1) / batch_size) + 1\n",
    "\n",
    "    indices = np.random.permutation(np.arange(data_len))\n",
    "    x_shuffle = x[indices]\n",
    "    y_shuffle = y[indices]\n",
    "\n",
    "    for i in range(num_batch):\n",
    "        start_id = i * batch_size\n",
    "        end_id = min((i + 1) * batch_size, data_len)\n",
    "        yield x_shuffle[start_id:end_id], y_shuffle[start_id:end_id]"
   ]
  },
  {
   "cell_type": "code",
   "execution_count": 21,
   "metadata": {},
   "outputs": [],
   "source": [
    "def evaluate(sess, x_, y_):\n",
    "    \"\"\"评估在某一数据上的准确率和损失\"\"\"\n",
    "    data_len = len(x_)\n",
    "    batch_eval = batch_iter(x_, y_, 64)\n",
    "    total_loss = 0.0\n",
    "    total_acc = 0.0\n",
    "    for x_batch, y_batch in batch_eval:\n",
    "        batch_len = len(x_batch)\n",
    "        feed_dict = {X_holder: x_batch , Y_holder: y_batch}\n",
    "        _, loss,acc = sess.run([optimizer, mean_loss,accuracy], feed_dict=feed_dict)\n",
    "        total_loss += loss * batch_len\n",
    "        total_acc += acc * batch_len\n",
    "\n",
    "    return total_loss / data_len, total_acc / data_len"
   ]
  },
  {
   "cell_type": "code",
   "execution_count": 22,
   "metadata": {},
   "outputs": [
    {
     "name": "stdout",
     "output_type": "stream",
     "text": [
      "0.40076295517921445\n",
      "0.8124399999809265\n"
     ]
    }
   ],
   "source": [
    "loss_test, acc_test = evaluate(session, test_data, test_labels)\n",
    "print(loss_test)\n",
    "print(acc_test)"
   ]
  },
  {
   "cell_type": "markdown",
   "metadata": {},
   "source": [
    "# Precision, Recall and F1-Score."
   ]
  },
  {
   "cell_type": "code",
   "execution_count": 24,
   "metadata": {},
   "outputs": [],
   "source": [
    "batch_size = 128\n",
    "data_len = len(test_data)\n",
    "num_batch = int((data_len - 1) / batch_size) + 1\n",
    "\n",
    "y_pred_cls = np.zeros(shape=len(test_data), dtype=np.int32)  # 保存预测结果\n",
    "for i in range(num_batch):  # 逐批次处理\n",
    "    start_id = i * batch_size\n",
    "    end_id = min((i + 1) * batch_size, data_len)\n",
    "    feed_dict = {X_holder: test_data[start_id:end_id]}\n",
    "    y_pred_cls[start_id:end_id] = session.run(predict_Y , feed_dict=feed_dict)"
   ]
  },
  {
   "cell_type": "code",
   "execution_count": 26,
   "metadata": {},
   "outputs": [
    {
     "name": "stdout",
     "output_type": "stream",
     "text": [
      "Precision, Recall and F1-Score...\n",
      "              precision    recall  f1-score   support\n",
      "\n",
      "           0       0.87      0.95      0.91     12500\n",
      "           1       0.94      0.85      0.90     12500\n",
      "\n",
      "    accuracy                           0.90     25000\n",
      "   macro avg       0.91      0.90      0.90     25000\n",
      "weighted avg       0.91      0.90      0.90     25000\n",
      "\n"
     ]
    }
   ],
   "source": [
    "from sklearn import metrics\n",
    "\n",
    "print(\"Precision, Recall and F1-Score...\")\n",
    "print(metrics.classification_report(test_labels, y_pred_cls))"
   ]
  },
  {
   "cell_type": "code",
   "execution_count": 27,
   "metadata": {},
   "outputs": [
    {
     "name": "stdout",
     "output_type": "stream",
     "text": [
      "Confusion Matrix...\n",
      "[[11879   621]\n",
      " [ 1849 10651]]\n"
     ]
    }
   ],
   "source": [
    "# 混淆矩阵\n",
    "print(\"Confusion Matrix...\")\n",
    "cm = metrics.confusion_matrix(test_labels, y_pred_cls)\n",
    "print(cm)"
   ]
  },
  {
   "cell_type": "markdown",
   "metadata": {},
   "source": [
    "# AUC ROC"
   ]
  },
  {
   "cell_type": "code",
   "execution_count": null,
   "metadata": {},
   "outputs": [],
   "source": []
  }
 ],
 "metadata": {
  "kernelspec": {
   "display_name": "Python 3",
   "language": "python",
   "name": "python3"
  },
  "language_info": {
   "codemirror_mode": {
    "name": "ipython",
    "version": 3
   },
   "file_extension": ".py",
   "mimetype": "text/x-python",
   "name": "python",
   "nbconvert_exporter": "python",
   "pygments_lexer": "ipython3",
   "version": "3.7.3"
  }
 },
 "nbformat": 4,
 "nbformat_minor": 2
}
