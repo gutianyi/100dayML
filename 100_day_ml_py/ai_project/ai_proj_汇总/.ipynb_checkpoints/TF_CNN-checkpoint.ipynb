{
 "cells": [
  {
   "cell_type": "code",
   "execution_count": 1,
   "metadata": {},
   "outputs": [],
   "source": [
    "import tensorflow as tf\n",
    "import numpy as np\n",
    "import os\n",
    "import random\n",
    "from tensorflow import keras\n",
    "from tensorflow.python.ops.rnn import static_rnn\n",
    "from tensorflow.python.ops.rnn_cell_impl import BasicLSTMCell"
   ]
  },
  {
   "cell_type": "markdown",
   "metadata": {},
   "source": [
    "# Prama Define"
   ]
  },
  {
   "cell_type": "code",
   "execution_count": 2,
   "metadata": {},
   "outputs": [],
   "source": [
    "embedding_dim = 64  # 词向量维度\n",
    "max_seq_num = 380  # 序列长度\n",
    "vocab_size = 5000  # 词汇表达小\n",
    "num_classes = 2  # 类别数\n",
    "kernel_size = 3  # 卷积核尺寸\n",
    "num_filters = 256  # 卷积核数目\n",
    "kernel_size = 3  # 卷积核尺寸\n",
    "\n",
    "hidden_dim = 256  # 全连接层神经元\n",
    "\n",
    "dropout_keep_prob = 0.8  # dropout保留比例\n",
    "learning_rate = 1e-3  # 学习率\n",
    "\n",
    "batch_size = 100  # 每批训练大小\n",
    "num_epochs = 10  # 总迭代轮次"
   ]
  },
  {
   "cell_type": "markdown",
   "metadata": {},
   "source": [
    "# IMDB Dataset Import"
   ]
  },
  {
   "cell_type": "code",
   "execution_count": 3,
   "metadata": {},
   "outputs": [],
   "source": [
    "imdb = keras.datasets.imdb\n",
    "(train_data, train_labels), (test_data, test_labels) = imdb.load_data(num_words=vocab_size)"
   ]
  },
  {
   "cell_type": "code",
   "execution_count": 4,
   "metadata": {},
   "outputs": [
    {
     "name": "stdout",
     "output_type": "stream",
     "text": [
      "25000\n",
      "25000\n"
     ]
    }
   ],
   "source": [
    "#Size of train data and Test data\n",
    "print(len(train_data))\n",
    "print(len(test_data))"
   ]
  },
  {
   "cell_type": "code",
   "execution_count": 5,
   "metadata": {},
   "outputs": [
    {
     "name": "stdout",
     "output_type": "stream",
     "text": [
      "[1, 14, 22, 16, 43, 530, 973, 1622, 1385, 65, 458, 4468, 66, 3941, 4, 173, 36, 256, 5, 25, 100, 43, 838, 112, 50, 670, 2, 9, 35, 480, 284, 5, 150, 4, 172, 112, 167, 2, 336, 385, 39, 4, 172, 4536, 1111, 17, 546, 38, 13, 447, 4, 192, 50, 16, 6, 147, 2025, 19, 14, 22, 4, 1920, 4613, 469, 4, 22, 71, 87, 12, 16, 43, 530, 38, 76, 15, 13, 1247, 4, 22, 17, 515, 17, 12, 16, 626, 18, 2, 5, 62, 386, 12, 8, 316, 8, 106, 5, 4, 2223, 2, 16, 480, 66, 3785, 33, 4, 130, 12, 16, 38, 619, 5, 25, 124, 51, 36, 135, 48, 25, 1415, 33, 6, 22, 12, 215, 28, 77, 52, 5, 14, 407, 16, 82, 2, 8, 4, 107, 117, 2, 15, 256, 4, 2, 7, 3766, 5, 723, 36, 71, 43, 530, 476, 26, 400, 317, 46, 7, 4, 2, 1029, 13, 104, 88, 4, 381, 15, 297, 98, 32, 2071, 56, 26, 141, 6, 194, 2, 18, 4, 226, 22, 21, 134, 476, 26, 480, 5, 144, 30, 2, 18, 51, 36, 28, 224, 92, 25, 104, 4, 226, 65, 16, 38, 1334, 88, 12, 16, 283, 5, 16, 4472, 113, 103, 32, 15, 16, 2, 19, 178, 32]\n"
     ]
    }
   ],
   "source": [
    "#Showcase of data example\n",
    "print(train_data[0])"
   ]
  },
  {
   "cell_type": "markdown",
   "metadata": {},
   "source": [
    "Transform num vector data into word to have a intuitive view"
   ]
  },
  {
   "cell_type": "code",
   "execution_count": 6,
   "metadata": {},
   "outputs": [],
   "source": [
    "# 字典:用于将数字转向单词\n",
    "word_index = imdb.get_word_index()\n",
    " \n",
    "# key值不变，value值加3，并新增了4个键值对\n",
    "word_index = {k:(v+3) for k,v in word_index.items()}\n",
    "word_index[\"<PAD>\"] = 0 # 用来将每一个sentence扩充到同等长度\n",
    "word_index[\"<START>\"] = 1\n",
    "word_index[\"<UNK>\"] = 2 # 未知，可能是生僻单词或是人名\n",
    "word_index[\"UNUSED\"] = 3\n",
    " \n",
    "# 将键值对的键与值互换\n",
    "reverse_word_index = dict([(value,key) for (key,value) in word_index.items()])\n",
    " \n",
    "# 转译为原句\n",
    "def decode_review(text):\n",
    "    return ' '.join([reverse_word_index.get(i,'?') for i in text])"
   ]
  },
  {
   "cell_type": "code",
   "execution_count": 7,
   "metadata": {},
   "outputs": [
    {
     "data": {
      "text/plain": [
       "\"<START> this film was just brilliant casting location scenery story direction everyone's really suited the part they played and you could just imagine being there robert <UNK> is an amazing actor and now the same being director <UNK> father came from the same scottish island as myself so i loved the fact there was a real connection with this film the witty remarks throughout the film were great it was just brilliant so much that i bought the film as soon as it was released for <UNK> and would recommend it to everyone to watch and the fly <UNK> was amazing really cried at the end it was so sad and you know what they say if you cry at a film it must have been good and this definitely was also <UNK> to the two little <UNK> that played the <UNK> of norman and paul they were just brilliant children are often left out of the <UNK> list i think because the stars that play them all grown up are such a big <UNK> for the whole film but these children are amazing and should be <UNK> for what they have done don't you think the whole story was so lovely because it was true and was someone's life after all that was <UNK> with us all\""
      ]
     },
     "execution_count": 7,
     "metadata": {},
     "output_type": "execute_result"
    }
   ],
   "source": [
    "decode_review(train_data[0])"
   ]
  },
  {
   "cell_type": "markdown",
   "metadata": {},
   "source": [
    "Pad each piece of data"
   ]
  },
  {
   "cell_type": "code",
   "execution_count": 8,
   "metadata": {},
   "outputs": [],
   "source": [
    "train_data = keras.preprocessing.sequence.pad_sequences(train_data ,maxlen = max_seq_num) \n",
    "test_data = keras.preprocessing.sequence.pad_sequences(test_data, maxlen = max_seq_num)"
   ]
  },
  {
   "cell_type": "markdown",
   "metadata": {},
   "source": [
    "# TF Graph Building + Deep Network Arch"
   ]
  },
  {
   "cell_type": "code",
   "execution_count": 9,
   "metadata": {},
   "outputs": [
    {
     "name": "stdout",
     "output_type": "stream",
     "text": [
      "WARNING:tensorflow:From C:\\ProgramData\\Anaconda3\\lib\\site-packages\\tensorflow_core\\python\\ops\\resource_variable_ops.py:1630: calling BaseResourceVariable.__init__ (from tensorflow.python.ops.resource_variable_ops) with constraint is deprecated and will be removed in a future version.\n",
      "Instructions for updating:\n",
      "If using Keras pass *_constraint arguments to layers.\n",
      "WARNING:tensorflow:From <ipython-input-9-35e35dab871a>:11: conv1d (from tensorflow.python.layers.convolutional) is deprecated and will be removed in a future version.\n",
      "Instructions for updating:\n",
      "Use `tf.keras.layers.Conv1D` instead.\n",
      "WARNING:tensorflow:From C:\\ProgramData\\Anaconda3\\lib\\site-packages\\tensorflow_core\\python\\layers\\convolutional.py:218: Layer.apply (from tensorflow.python.keras.engine.base_layer) is deprecated and will be removed in a future version.\n",
      "Instructions for updating:\n",
      "Please use `layer.__call__` method instead.\n",
      "conv_input shape:(None, 378, 256),(378, 256)\n",
      "WARNING:tensorflow:From <ipython-input-9-35e35dab871a>:16: dense (from tensorflow.python.layers.core) is deprecated and will be removed in a future version.\n",
      "Instructions for updating:\n",
      "Use keras.layers.Dense instead.\n",
      "WARNING:tensorflow:From <ipython-input-9-35e35dab871a>:18: dropout (from tensorflow.python.layers.core) is deprecated and will be removed in a future version.\n",
      "Instructions for updating:\n",
      "Use keras.layers.dropout instead.\n"
     ]
    }
   ],
   "source": [
    "tf.compat.v1.disable_eager_execution()#在版本2.0下关闭急切运行模式，解决占位符模式冲突\n",
    "tf.compat.v1.reset_default_graph()\n",
    "X_holder = tf.compat.v1.placeholder(tf.int32, [None, max_seq_num])#Input_size of each: max_seq_num\n",
    "Y_holder = tf.compat.v1.placeholder(tf.int32, [None])\n",
    "#Y_holder = tf.compat.v1.placeholder(tf.float32, [None, num_classes])\n",
    "#\n",
    "keep_prob = tf.compat.v1.placeholder(tf.float32)\n",
    "embedding = tf.compat.v1.get_variable('embedding', [vocab_size, embedding_dim])#Embedding each piece of data into a vector\n",
    "embedding_inputs = tf.nn.embedding_lookup(embedding, X_holder)\n",
    "# CNN layer\n",
    "conv = tf.compat.v1.layers.conv1d(embedding_inputs, num_filters, kernel_size)\n",
    "print(\"conv_input shape:%s,%s\"%(conv.shape,conv[0].shape))\n",
    "# global max pooling layer\n",
    "gmp = tf.compat.v1.reduce_max(conv, reduction_indices=[1])\n",
    "#Dense Layer\n",
    "fc = tf.compat.v1.layers.dense(gmp, hidden_dim)\n",
    "#Dropout_of_Dense Layer\n",
    "fc = tf.compat.v1.layers.dropout(fc, dropout_keep_prob)\n",
    "#Relu to activate dense\n",
    "fc_pro = tf.compat.v1.nn.relu(fc)\n",
    "# 分类器\n",
    "logits = tf.compat.v1.layers.dense(fc, num_classes)\n",
    "y_pro = tf.compat.v1.nn.softmax(logits)\n",
    "y_pred = tf.compat.v1.argmax(y_pro, 1)  # 预测类别\n",
    "# 损失函数，交叉熵\n",
    "losses = tf.nn.softmax_cross_entropy_with_logits(labels=tf.one_hot(Y_holder, num_classes), logits = logits)\n",
    "mean_loss = tf.reduce_mean(losses)\n",
    "#优化器\n",
    "optimizer = tf.compat.v1.train.AdamOptimizer(learning_rate).minimize(mean_loss)"
   ]
  },
  {
   "cell_type": "code",
   "execution_count": 10,
   "metadata": {},
   "outputs": [],
   "source": [
    "correct_pred = tf.equal(Y_holder, tf.cast(y_pred, dtype=tf.int32))\n",
    "accuracy = tf.reduce_mean(tf.cast(correct_pred, tf.float32))"
   ]
  },
  {
   "cell_type": "markdown",
   "metadata": {},
   "source": [
    "# Model Training"
   ]
  },
  {
   "cell_type": "code",
   "execution_count": 16,
   "metadata": {},
   "outputs": [],
   "source": [
    "# training\n",
    "# 全局初始化\n",
    "init = tf.compat.v1.global_variables_initializer()\n",
    "session = tf.compat.v1.Session()\n",
    "session.run(init)"
   ]
  },
  {
   "cell_type": "code",
   "execution_count": 58,
   "metadata": {},
   "outputs": [],
   "source": [
    "iterations = 5000 # 迭代的次数\n",
    "steps = np.zeros(iterations)\n",
    "ACC = np.zeros_like(steps)\n",
    "MSE= np.zeros_like(steps)"
   ]
  },
  {
   "cell_type": "code",
   "execution_count": 59,
   "metadata": {},
   "outputs": [],
   "source": [
    "import time"
   ]
  },
  {
   "cell_type": "code",
   "execution_count": 60,
   "metadata": {
    "scrolled": true
   },
   "outputs": [
    {
     "name": "stderr",
     "output_type": "stream",
     "text": [
      "C:\\ProgramData\\Anaconda3\\lib\\site-packages\\ipykernel_launcher.py:1: DeprecationWarning: time.clock has been deprecated in Python 3.3 and will be removed from Python 3.8: use time.perf_counter or time.process_time instead\n",
      "  \"\"\"Entry point for launching an IPython kernel.\n"
     ]
    },
    {
     "name": "stdout",
     "output_type": "stream",
     "text": [
      "begin training\n",
      "step = 0\t mean loss =0.6947009563446045 acc =0.46875\n",
      "step = 100\t mean loss =0.3225836157798767 acc =0.8828125\n",
      "step = 200\t mean loss =0.1928928792476654 acc =0.9296875\n",
      "step = 300\t mean loss =0.23461391031742096 acc =0.921875\n",
      "step = 400\t mean loss =0.21891969442367554 acc =0.953125\n",
      "step = 500\t mean loss =0.0866551399230957 acc =0.96875\n",
      "step = 600\t mean loss =0.03296591341495514 acc =0.9921875\n",
      "step = 700\t mean loss =0.08322983980178833 acc =0.984375\n",
      "step = 800\t mean loss =0.01606285199522972 acc =0.9921875\n",
      "step = 900\t mean loss =0.026867341250181198 acc =0.9921875\n",
      "step = 1000\t mean loss =0.008382490836083889 acc =1.0\n",
      "step = 1100\t mean loss =0.005207164213061333 acc =1.0\n",
      "step = 1200\t mean loss =0.011121060699224472 acc =0.9921875\n",
      "step = 1300\t mean loss =0.004752035718411207 acc =1.0\n",
      "step = 1400\t mean loss =0.007333255838602781 acc =1.0\n",
      "step = 1500\t mean loss =0.004872893448919058 acc =1.0\n",
      "step = 1600\t mean loss =0.0010648262687027454 acc =1.0\n",
      "step = 1700\t mean loss =0.001540923141874373 acc =1.0\n",
      "step = 1800\t mean loss =0.0006817408138886094 acc =1.0\n",
      "step = 1900\t mean loss =0.0005113001097925007 acc =1.0\n",
      "step = 2000\t mean loss =0.012533226050436497 acc =0.9921875\n",
      "step = 2100\t mean loss =0.000526710762642324 acc =1.0\n",
      "step = 2200\t mean loss =0.023053880780935287 acc =0.984375\n",
      "step = 2300\t mean loss =0.023668929934501648 acc =0.9921875\n",
      "step = 2400\t mean loss =0.01396770216524601 acc =0.9921875\n",
      "step = 2500\t mean loss =0.20326417684555054 acc =0.921875\n",
      "step = 2600\t mean loss =0.013724430464208126 acc =1.0\n",
      "step = 2700\t mean loss =0.05437369644641876 acc =0.9921875\n",
      "step = 2800\t mean loss =0.038712937384843826 acc =0.984375\n",
      "step = 2900\t mean loss =0.0006864200695417821 acc =1.0\n",
      "step = 3000\t mean loss =0.004272584803402424 acc =1.0\n",
      "step = 3100\t mean loss =0.0008520676637999713 acc =1.0\n",
      "step = 3200\t mean loss =0.0008641737513244152 acc =1.0\n",
      "step = 3300\t mean loss =5.88128823437728e-05 acc =1.0\n",
      "step = 3400\t mean loss =0.0003729255695361644 acc =1.0\n",
      "step = 3500\t mean loss =0.00017204751202370971 acc =1.0\n",
      "step = 3600\t mean loss =0.0012853065272793174 acc =1.0\n",
      "step = 3700\t mean loss =4.674348019761965e-05 acc =1.0\n",
      "step = 3800\t mean loss =3.8329486415022984e-05 acc =1.0\n",
      "step = 3900\t mean loss =0.0007593353511765599 acc =1.0\n",
      "step = 4000\t mean loss =3.062091491301544e-05 acc =1.0\n",
      "step = 4100\t mean loss =3.816834214376286e-05 acc =1.0\n",
      "step = 4200\t mean loss =5.446347495308146e-05 acc =1.0\n",
      "step = 4300\t mean loss =5.448810406960547e-05 acc =1.0\n",
      "step = 4400\t mean loss =5.410495214164257e-05 acc =1.0\n",
      "step = 4500\t mean loss =3.568956890376285e-05 acc =1.0\n",
      "step = 4600\t mean loss =0.00010023139475379139 acc =1.0\n",
      "step = 4700\t mean loss =1.3273716831463389e-05 acc =1.0\n",
      "step = 4800\t mean loss =2.9850261853425764e-05 acc =1.0\n",
      "step = 4900\t mean loss =1.440953928977251e-05 acc =1.0\n"
     ]
    },
    {
     "name": "stderr",
     "output_type": "stream",
     "text": [
      "C:\\ProgramData\\Anaconda3\\lib\\site-packages\\ipykernel_launcher.py:20: DeprecationWarning: time.clock has been deprecated in Python 3.3 and will be removed from Python 3.8: use time.perf_counter or time.process_time instead\n"
     ]
    }
   ],
   "source": [
    "start = time.clock()\n",
    "with tf.compat.v1.Session() as sess:\n",
    "    sess.run(tf.compat.v1.global_variables_initializer())\n",
    "    print (\"begin training\")\n",
    "    # 训练\n",
    "    for step in range(iterations):\n",
    "        selected_index = np.random.choice(len(train_data),size=batch_size)\n",
    "        batch_X = train_data[selected_index]\n",
    "        batch_Y = train_labels[selected_index]\n",
    "        feed_dict = {X_holder: batch_X, Y_holder: batch_Y}\n",
    "        _, mean_loss_val,accuracy_value = sess.run([optimizer, mean_loss,accuracy], \n",
    "                                                   feed_dict=feed_dict)\n",
    "        #mean_loss_val,accuracy_value = sess.run([mean_loss,accuracy], feed_dict=feed_dict)\n",
    "        steps[step]=step\n",
    "        ACC[step] = accuracy_value\n",
    "        MSE[step] = mean_loss_val\n",
    "        #print(\"rnn_outputs shape:%s,%s\"%(len(rnn_outputs),rnn_outputs[0].shape))\n",
    "        if step%100 == 0:\n",
    "            print (\"step = {}\\t mean loss ={} acc ={}\".format(step, mean_loss_val,accuracy_value))\n",
    "elapsed = (time.clock() - start)"
   ]
  },
  {
   "cell_type": "code",
   "execution_count": 61,
   "metadata": {},
   "outputs": [
    {
     "name": "stdout",
     "output_type": "stream",
     "text": [
      "Time used: 848.7127051000002\n"
     ]
    }
   ],
   "source": [
    "#Time Consuming\n",
    "print(\"Time used:\",elapsed)"
   ]
  },
  {
   "cell_type": "markdown",
   "metadata": {},
   "source": [
    "# Model Saving"
   ]
  },
  {
   "cell_type": "code",
   "execution_count": 62,
   "metadata": {},
   "outputs": [
    {
     "name": "stdout",
     "output_type": "stream",
     "text": [
      "Model saved in file:  ./model/model_cnn_15_epoch.ckpt\n"
     ]
    }
   ],
   "source": [
    "saver = tf.compat.v1.train.Saver()\n",
    "with tf.compat.v1.Session() as sess:\n",
    "    sess.run(init)\n",
    "    # 存储Session工作空间\n",
    "    saver_path = saver.save(sess, \"./model/model_cnn_15_epoch.ckpt\")\n",
    "    print (\"Model saved in file: \", saver_path)"
   ]
  },
  {
   "cell_type": "markdown",
   "metadata": {},
   "source": [
    "# Metrics Analysis"
   ]
  },
  {
   "cell_type": "code",
   "execution_count": 63,
   "metadata": {},
   "outputs": [
    {
     "name": "stdout",
     "output_type": "stream",
     "text": [
      "<class 'numpy.ndarray'>\n",
      "5000\n"
     ]
    }
   ],
   "source": [
    "print(type(ACC))\n",
    "print(len(ACC))"
   ]
  },
  {
   "cell_type": "code",
   "execution_count": 64,
   "metadata": {},
   "outputs": [
    {
     "data": {
      "image/png": "[encoded data removed]",
      "text/plain": [
       "<Figure size 432x288 with 1 Axes>"
      ]
     },
     "metadata": {
      "needs_background": "light"
     },
     "output_type": "display_data"
    }
   ],
   "source": [
    "# plt image\n",
    "import matplotlib.pyplot as plt\n",
    "plt.plot(steps,ACC,label='acc')\n",
    "plt.xlabel('step')\n",
    "plt.ylabel('acc')\n",
    "plt.show()"
   ]
  },
  {
   "cell_type": "code",
   "execution_count": 65,
   "metadata": {},
   "outputs": [
    {
     "data": {
      "image/png": "[encoded data removed]",
      "text/plain": [
       "<Figure size 432x288 with 1 Axes>"
      ]
     },
     "metadata": {
      "needs_background": "light"
     },
     "output_type": "display_data"
    }
   ],
   "source": [
    "# plt image\n",
    "import matplotlib.pyplot as plt\n",
    "plt.plot(steps,MSE,label='acc')\n",
    "plt.xlabel('step')\n",
    "plt.ylabel('mse')\n",
    "plt.show()"
   ]
  },
  {
   "cell_type": "markdown",
   "metadata": {},
   "source": [
    "# Testset Evaluate: Test_ACC、Test_Loss"
   ]
  },
  {
   "cell_type": "code",
   "execution_count": 66,
   "metadata": {},
   "outputs": [],
   "source": [
    "def batch_iter(x, y, batch_size=64):\n",
    "    \"\"\"生成批次数据\"\"\"\n",
    "    data_len = len(x)\n",
    "    num_batch = int((data_len - 1) / batch_size) + 1\n",
    "\n",
    "    indices = np.random.permutation(np.arange(data_len))\n",
    "    x_shuffle = x[indices]\n",
    "    y_shuffle = y[indices]\n",
    "\n",
    "    for i in range(num_batch):\n",
    "        start_id = i * batch_size\n",
    "        end_id = min((i + 1) * batch_size, data_len)\n",
    "        yield x_shuffle[start_id:end_id], y_shuffle[start_id:end_id]"
   ]
  },
  {
   "cell_type": "code",
   "execution_count": 67,
   "metadata": {},
   "outputs": [],
   "source": [
    "def evaluate(sess, x_, y_):\n",
    "    \"\"\"评估在某一数据上的准确率和损失\"\"\"\n",
    "    data_len = len(x_)\n",
    "    batch_eval = batch_iter(x_, y_, 64)\n",
    "    total_loss = 0.0\n",
    "    total_acc = 0.0\n",
    "    for x_batch, y_batch in batch_eval:\n",
    "        batch_len = len(x_batch)\n",
    "        feed_dict = {X_holder: x_batch , Y_holder: y_batch}\n",
    "        _, loss,acc = sess.run([optimizer, mean_loss,accuracy], feed_dict=feed_dict)\n",
    "        total_loss += loss * batch_len\n",
    "        total_acc += acc * batch_len\n",
    "\n",
    "    return total_loss / data_len, total_acc / data_len"
   ]
  },
  {
   "cell_type": "code",
   "execution_count": 68,
   "metadata": {},
   "outputs": [
    {
     "name": "stdout",
     "output_type": "stream",
     "text": [
      "0.06824165527820587\n",
      "0.9766799999809265\n"
     ]
    }
   ],
   "source": [
    "loss_test, acc_test = evaluate(session, test_data, test_labels)\n",
    "print(loss_test)\n",
    "print(acc_test)"
   ]
  },
  {
   "cell_type": "code",
   "execution_count": 69,
   "metadata": {},
   "outputs": [
    {
     "data": {
      "text/plain": [
       "numpy.ndarray"
      ]
     },
     "execution_count": 69,
     "metadata": {},
     "output_type": "execute_result"
    }
   ],
   "source": [
    "type(test_labels)"
   ]
  },
  {
   "cell_type": "code",
   "execution_count": 70,
   "metadata": {},
   "outputs": [],
   "source": [
    "batch_size = 128\n",
    "data_len = len(test_data)\n",
    "num_batch = int((data_len - 1) / batch_size) + 1\n",
    "\n",
    "y_pred_cls = np.zeros(shape=len(test_data), dtype=np.int32)  # 保存预测结果\n",
    "for i in range(num_batch):  # 逐批次处理\n",
    "    start_id = i * batch_size\n",
    "    end_id = min((i + 1) * batch_size, data_len)\n",
    "    feed_dict = {X_holder: test_data[start_id:end_id]}\n",
    "    y_pred_cls[start_id:end_id] = session.run(y_pred, feed_dict=feed_dict)"
   ]
  },
  {
   "cell_type": "code",
   "execution_count": 71,
   "metadata": {},
   "outputs": [],
   "source": [
    "from sklearn import metrics"
   ]
  },
  {
   "cell_type": "code",
   "execution_count": 72,
   "metadata": {},
   "outputs": [
    {
     "name": "stdout",
     "output_type": "stream",
     "text": [
      "Precision, Recall and F1-Score...\n",
      "              precision    recall  f1-score   support\n",
      "\n",
      "           0       1.00      0.97      0.99     12500\n",
      "           1       0.97      1.00      0.99     12500\n",
      "\n",
      "    accuracy                           0.99     25000\n",
      "   macro avg       0.99      0.99      0.99     25000\n",
      "weighted avg       0.99      0.99      0.99     25000\n",
      "\n"
     ]
    }
   ],
   "source": [
    "print(\"Precision, Recall and F1-Score...\")\n",
    "print(metrics.classification_report(test_labels, y_pred_cls))"
   ]
  },
  {
   "cell_type": "code",
   "execution_count": 73,
   "metadata": {},
   "outputs": [
    {
     "name": "stdout",
     "output_type": "stream",
     "text": [
      "Confusion Matrix...\n",
      "[[12171   329]\n",
      " [    9 12491]]\n"
     ]
    }
   ],
   "source": [
    "# 混淆矩阵\n",
    "print(\"Confusion Matrix...\")\n",
    "cm = metrics.confusion_matrix(test_labels, y_pred_cls)\n",
    "print(cm)"
   ]
  },
  {
   "cell_type": "markdown",
   "metadata": {},
   "source": [
    "# ROC Predict_Prob"
   ]
  },
  {
   "cell_type": "code",
   "execution_count": 74,
   "metadata": {},
   "outputs": [],
   "source": [
    "y_pred_prob = []  # 保存预测结果\n",
    "for i in range(data_        3444len):  # 逐批次处理\n",
    "    feed_dict = {X_holder: test_data[i:i+1]}\n",
    "    y_pred_prob.append(session.run(y_pro, feed_dict=feed_dict))"
   ]
  },
  {
   "cell_type": "code",
   "execution_count": 75,
   "metadata": {},
   "outputs": [
    {
     "data": {
      "text/plain": [
       "25000"
      ]
     },
     "execution_count": 75,
     "metadata": {},
     "output_type": "execute_result"
    }
   ],
   "source": [
    "len(y_pred_prob)"
   ]
  },
  {
   "cell_type": "code",
   "execution_count": 76,
   "metadata": {},
   "outputs": [],
   "source": [
    "cat_1_pro = []\n",
    "for i in range(len(y_pred_prob)):\n",
    "    cat_1_pro.append(max(y_pred_prob[i][0]))"
   ]
  },
  {
   "cell_type": "code",
   "execution_count": 77,
   "metadata": {},
   "outputs": [],
   "source": [
    "from sklearn.metrics import roc_curve, auc\n",
    "import matplotlib.pyplot as plt\n",
    "import random\n",
    "import numpy as np"
   ]
  },
  {
   "cell_type": "code",
   "execution_count": 78,
   "metadata": {},
   "outputs": [],
   "source": [
    "false_positive_rate, true_positive_rate, thresholds = roc_curve(test_labels,  cat_1_pro)\n",
    "roc_auc = auc(false_positive_rate, true_positive_rate)"
   ]
  },
  {
   "cell_type": "code",
   "execution_count": 79,
   "metadata": {},
   "outputs": [
    {
     "data": {
      "image/png": "[encoded data removed]",
      "text/plain": [
       "<Figure size 432x288 with 1 Axes>"
      ]
     },
     "metadata": {
      "needs_background": "light"
     },
     "output_type": "display_data"
    }
   ],
   "source": [
    "plt.title('Receiver Operating Characteristic')\n",
    "plt.plot(false_positive_rate, true_positive_rate, 'b',\n",
    "label='AUC = %0.2f'% roc_auc)\n",
    "plt.legend(loc='lower right')\n",
    "plt.plot([0,1],[0,1],'r--')\n",
    "plt.xlim([0,1])\n",
    "plt.ylim([0,1])\n",
    "plt.ylabel('True Positive Rate')\n",
    "plt.xlabel('False Positive Rate')\n",
    "plt.show()"
   ]
  },
  {
   "cell_type": "code",
   "execution_count": null,
   "metadata": {},
   "outputs": [],
   "source": []
  }
 ],
 "metadata": {
  "kernelspec": {
   "display_name": "Python 3",
   "language": "python",
   "name": "python3"
  },
  "language_info": {
   "codemirror_mode": {
    "name": "ipython",
    "version": 3
   },
   "file_extension": ".py",
   "mimetype": "text/x-python",
   "name": "python",
   "nbconvert_exporter": "python",
   "pygments_lexer": "ipython3",
   "version": "3.7.3"
  },
  "pycharm": {
   "stem_cell": {
    "cell_type": "raw",
    "source": [],
    "metadata": {
     "collapsed": false
    }
   }
  }
 },
 "nbformat": 4,
 "nbformat_minor": 2
}