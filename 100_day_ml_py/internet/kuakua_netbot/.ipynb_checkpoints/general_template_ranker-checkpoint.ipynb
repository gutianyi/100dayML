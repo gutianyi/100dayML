{
 "cells": [
  {
   "cell_type": "code",
   "execution_count": 1,
   "metadata": {},
   "outputs": [],
   "source": [
    "import time\n",
    "import math\n",
    "import jieba\n",
    "import pandas as pd"
   ]
  },
  {
   "cell_type": "code",
   "execution_count": null,
   "metadata": {},
   "outputs": [],
   "source": [
    "教育\t基础教育（非学历机构）\t想感受他们的学习模式么\t想感受他们的<CATETYPE0>模式么\t学习\tCATETYPE0\n",
    "教育\t基础教育（非学历机构）\t免费测评，等你来挑战\t<SELLPOINT>测评，等你来挑战\t免费\tSELLPOINT"
   ]
  },
  {
   "cell_type": "code",
   "execution_count": 2,
   "metadata": {},
   "outputs": [],
   "source": [
    "def load_template_raw_results(infile, cat_type):\n",
    "    template_lines = []\n",
    "    with open(infile, 'r', encoding='utf-8') as inf:\n",
    "        for line in inf:\n",
    "            items = line.strip('\\r\\n').split('\\t')\n",
    "            cat = items[0]\n",
    "            cat_2nd = items[1]\n",
    "            template = items[3]\n",
    "            slot_word_list = items[4].split(\" \")\n",
    "            slot_type_list = items[5].split(\" \")\n",
    "            if cat == cat_type:\n",
    "                template_lines.append((cat, cat_2nd, template, slot_word_list, slot_type_list))\n",
    "    return template_lines"
   ]
  },
  {
   "cell_type": "code",
   "execution_count": 3,
   "metadata": {},
   "outputs": [],
   "source": [
    "#对待筛选模板作去除停用词等预处理，并分词\n",
    "def template_preprocess(template_lines, stop_word_file):\n",
    "    stopwords = [line.strip() for line in open(stop_word_file, encoding='UTF-8').readlines()]  \n",
    "    new_lines = []\n",
    "    new_len_lines = []\n",
    "    for template_line in template_lines:\n",
    "        temp = str(template_line[2])\n",
    "        #首先将TEMPLATE中包含的CATETYPE词去掉\n",
    "        for ct_word in template_line[4]:\n",
    "            temp = temp.replace(\"<\"+ct_word+\">\", '')\n",
    "        temp = list(jieba.cut(temp))\n",
    "        #去掉停用词\n",
    "        temp = [x for x in temp if (x in stopwords) == False]\n",
    "        #temp = [x for x in temp if (x != \"城市\") and (x != \"金额\") and (x != \"品牌\") and (x != \"SLOT\")]\n",
    "        temp = [x for x in temp if (x != \"品牌\") and (x != \"SLOT\")]\n",
    "        temp = [x for x in temp if (x != \"\") and (x != \" \")]\n",
    "        new_lines.append(temp)\n",
    "        new_len_lines.append(len(temp))\n",
    "    return new_lines,new_len_lines"
   ]
  },
  {
   "cell_type": "code",
   "execution_count": 4,
   "metadata": {},
   "outputs": [
    {
     "name": "stderr",
     "output_type": "stream",
     "text": [
      "c:\\users\\v_ymzzhu\\appdata\\local\\programs\\python\\python37-32\\lib\\site-packages\\ipykernel_launcher.py:1: DeprecationWarning: time.clock has been deprecated in Python 3.3 and will be removed from Python 3.8: use time.perf_counter or time.process_time instead\n",
      "  \"\"\"Entry point for launching an IPython kernel.\n",
      "Building prefix dict from the default dictionary ...\n",
      "Loading model from cache C:\\Users\\v_ymzzhu\\AppData\\Local\\Temp\\jieba.cache\n",
      "Loading model cost 0.800 seconds.\n",
      "Prefix dict has been built succesfully.\n"
     ]
    },
    {
     "name": "stdout",
     "output_type": "stream",
     "text": [
      "Time used: 8.600979815999999\n"
     ]
    },
    {
     "name": "stderr",
     "output_type": "stream",
     "text": [
      "c:\\users\\v_ymzzhu\\appdata\\local\\programs\\python\\python37-32\\lib\\site-packages\\ipykernel_launcher.py:6: DeprecationWarning: time.clock has been deprecated in Python 3.3 and will be removed from Python 3.8: use time.perf_counter or time.process_time instead\n",
      "  \n"
     ]
    }
   ],
   "source": [
    "start = time.clock()\n",
    "infile = './result/general_slot_template_result_fin.txt'\n",
    "stop_word_file = './data/stop_ch.txt'\n",
    "general_template_lines = load_template_raw_results(infile, \"金融\")\n",
    "remain_word_lines, remain_word_len_lines = template_preprocess(general_template_lines, stop_word_file)\n",
    "elapsed = (time.clock() - start)\n",
    "print(\"Time used:\",elapsed)"
   ]
  },
  {
   "cell_type": "code",
   "execution_count": 6,
   "metadata": {},
   "outputs": [
    {
     "data": {
      "text/plain": [
       "[['身份证', '钱'],\n",
       " ['不用', '下载', 'App', '在线', '申请', '快至', '小时', '账', '无需', '抵押', '不用', '面审'],\n",
       " [],\n",
       " ['身份证', '即可', '申请'],\n",
       " ['办']]"
      ]
     },
     "execution_count": 6,
     "metadata": {},
     "output_type": "execute_result"
    }
   ],
   "source": [
    "remain_word_lines[0:5]"
   ]
  },
  {
   "cell_type": "markdown",
   "metadata": {},
   "source": [
    "# TFIDF"
   ]
  },
  {
   "cell_type": "code",
   "execution_count": 7,
   "metadata": {},
   "outputs": [],
   "source": [
    "rw_lines = []\n",
    "for i in range(len(remain_word_lines)):\n",
    "    temp = \" \".join(remain_word_lines[i])\n",
    "    rw_lines.append(temp)"
   ]
  },
  {
   "cell_type": "code",
   "execution_count": 8,
   "metadata": {},
   "outputs": [
    {
     "data": {
      "text/plain": [
       "['身份证 钱', '不用 下载 App 在线 申请 快至 小时 账 无需 抵押 不用 面审', '', '身份证 即可 申请', '办']"
      ]
     },
     "execution_count": 8,
     "metadata": {},
     "output_type": "execute_result"
    }
   ],
   "source": [
    "rw_lines[0:5]"
   ]
  },
  {
   "cell_type": "code",
   "execution_count": 9,
   "metadata": {},
   "outputs": [],
   "source": [
    "import sklearn\n",
    "from sklearn import feature_extraction  \n",
    "from sklearn.feature_extraction.text import TfidfTransformer  \n",
    "from sklearn.feature_extraction.text import CountVectorizer"
   ]
  },
  {
   "cell_type": "code",
   "execution_count": 10,
   "metadata": {},
   "outputs": [],
   "source": [
    "#该类会将文本中的词语转换为词频矩阵，矩阵元素a[i][j] 表示j词在i类文本下的词频  \n",
    "vectorizer=CountVectorizer()#该类会将文本中的词语转换为词频矩阵，矩阵元素a[i][j] 表示j词在i类文本下的词频  \n",
    "#该类会统计每个词语的tf-idf权值\n",
    "transformer=TfidfTransformer()\n",
    "#第一个fit_transform是计算tf-idf，第二个fit_transform是将文本转为词频矩阵  \n",
    "tfidf=transformer.fit_transform(vectorizer.fit_transform(rw_lines))"
   ]
  },
  {
   "cell_type": "code",
   "execution_count": 11,
   "metadata": {},
   "outputs": [],
   "source": [
    "#获取词袋模型中的所有词语  \n",
    "word=vectorizer.get_feature_names()\n",
    "#将tf-idf矩阵抽取出来，元素a[i][j]表示j词在i类文本中的tf-idf权重  \n",
    "weight=tfidf.toarray()"
   ]
  },
  {
   "cell_type": "code",
   "execution_count": 17,
   "metadata": {},
   "outputs": [
    {
     "data": {
      "text/plain": [
       "4724"
      ]
     },
     "execution_count": 17,
     "metadata": {},
     "output_type": "execute_result"
    }
   ],
   "source": [
    "len(weight[0])"
   ]
  },
  {
   "cell_type": "code",
   "execution_count": 18,
   "metadata": {},
   "outputs": [
    {
     "data": {
      "text/plain": [
       "4724"
      ]
     },
     "execution_count": 18,
     "metadata": {},
     "output_type": "execute_result"
    }
   ],
   "source": [
    "len(word)"
   ]
  },
  {
   "cell_type": "code",
   "execution_count": 26,
   "metadata": {},
   "outputs": [
    {
     "name": "stderr",
     "output_type": "stream",
     "text": [
      "c:\\users\\v_ymzzhu\\appdata\\local\\programs\\python\\python37-32\\lib\\site-packages\\ipykernel_launcher.py:2: DeprecationWarning: time.clock has been deprecated in Python 3.3 and will be removed from Python 3.8: use time.perf_counter or time.process_time instead\n",
      "  \n"
     ]
    },
    {
     "name": "stdout",
     "output_type": "stream",
     "text": [
      "Time used: 87.30307045000006\n"
     ]
    },
    {
     "name": "stderr",
     "output_type": "stream",
     "text": [
      "c:\\users\\v_ymzzhu\\appdata\\local\\programs\\python\\python37-32\\lib\\site-packages\\ipykernel_launcher.py:10: DeprecationWarning: time.clock has been deprecated in Python 3.3 and will be removed from Python 3.8: use time.perf_counter or time.process_time instead\n",
      "  # Remove the CWD from sys.path while we load stuff.\n"
     ]
    }
   ],
   "source": [
    "tf_idf_list = []\n",
    "start = time.clock()\n",
    "#第一个for遍历所有文本，第二个for便利某一类文本下的词语权重  \n",
    "for i in range(len(weight)):\n",
    "    tf_idf_temp = 0\n",
    "    for j in range(len(word)): \n",
    "        if weight[i][j] != 0:\n",
    "            tf_idf_temp = tf_idf_temp + weight[i][j]\n",
    "    tf_idf_list.append(tf_idf_temp)\n",
    "elapsed = (time.clock() - start)\n",
    "print(\"Time used:\",elapsed)"
   ]
  },
  {
   "cell_type": "code",
   "execution_count": 31,
   "metadata": {},
   "outputs": [
    {
     "data": {
      "text/plain": [
       "[2, 12, 0, 3, 1]"
      ]
     },
     "execution_count": 31,
     "metadata": {},
     "output_type": "execute_result"
    }
   ],
   "source": [
    "remain_word_len_lines[0:5]"
   ]
  },
  {
   "cell_type": "code",
   "execution_count": 34,
   "metadata": {},
   "outputs": [],
   "source": [
    "def tf_idf_avg(tf_idf_list, remain_word_len_lines):\n",
    "    tfidf_avg_list = []\n",
    "    for i in range(len(tf_idf_list)):\n",
    "        if remain_word_len_lines[i] != 0:\n",
    "            temp = tf_idf_list[i] / remain_word_len_lines[i]\n",
    "        else:\n",
    "            temp = 0\n",
    "        tfidf_avg_list.append(temp)\n",
    "    return tfidf_avg_list"
   ]
  },
  {
   "cell_type": "code",
   "execution_count": 35,
   "metadata": {},
   "outputs": [],
   "source": [
    "tfidf_avg_list = tf_idf_avg(tf_idf_list, remain_word_len_lines)"
   ]
  },
  {
   "cell_type": "code",
   "execution_count": 37,
   "metadata": {},
   "outputs": [],
   "source": [
    "for i in range(len(general_template_lines)):\n",
    "    general_template_lines[i] = general_template_lines[i] + (tfidf_avg_list[i] ,)"
   ]
  },
  {
   "cell_type": "markdown",
   "metadata": {},
   "source": [
    "# AVG_BIAS"
   ]
  },
  {
   "cell_type": "code",
   "execution_count": 7,
   "metadata": {},
   "outputs": [],
   "source": [
    "import gensim\n",
    "from gensim.models import Word2Vec"
   ]
  },
  {
   "cell_type": "code",
   "execution_count": 9,
   "metadata": {},
   "outputs": [],
   "source": [
    "from gensim.models import KeyedVectors\n",
    "model = KeyedVectors.load_word2vec_format('./model/sgns.weibo.word',binary=False, encoding=\"utf8\",  unicode_errors='ignore')  "
   ]
  },
  {
   "cell_type": "code",
   "execution_count": 10,
   "metadata": {},
   "outputs": [
    {
     "data": {
      "text/plain": [
       "0.5132953"
      ]
     },
     "execution_count": 10,
     "metadata": {},
     "output_type": "execute_result"
    }
   ],
   "source": [
    " model.similarity(\"鞋\", \"跑鞋\")"
   ]
  },
  {
   "cell_type": "code",
   "execution_count": 34,
   "metadata": {},
   "outputs": [],
   "source": [
    "#SLOT的完整信息-dataframe\n",
    "def load_slot_df(infile):\n",
    "    slot_df = []\n",
    "    with open(infile, 'r', encoding='utf-8') as inf:\n",
    "        for line in inf:\n",
    "            items = line.strip('\\r\\n').split('\\t')\n",
    "            slot_cat = items[0]\n",
    "            slot_word = items[1]\n",
    "            slot_type = items[2]\n",
    "            if slot_word in model:\n",
    "                slot_df.append((slot_cat, slot_word, slot_type))\n",
    "    return slot_df"
   ]
  },
  {
   "cell_type": "code",
   "execution_count": 35,
   "metadata": {},
   "outputs": [],
   "source": [
    "#导入SLOT列表\n",
    "slot_file = './slot_expansion_result/slot_word_list_fin.txt'\n",
    "slot_orin_list = load_slot_df(slot_file)"
   ]
  },
  {
   "cell_type": "code",
   "execution_count": 36,
   "metadata": {},
   "outputs": [
    {
     "data": {
      "text/plain": [
       "46"
      ]
     },
     "execution_count": 36,
     "metadata": {},
     "output_type": "execute_result"
    }
   ],
   "source": [
    "len(slot_orin_list)"
   ]
  },
  {
   "cell_type": "code",
   "execution_count": 22,
   "metadata": {},
   "outputs": [
    {
     "data": {
      "text/plain": [
       "('金融',\n",
       " '小额贷款',\n",
       " '今天<CATETYPE0>好<ADVANTAGE#SELLPOINT>',\n",
       " ['借钱', '划算'],\n",
       " ['CATETYPE0', 'ADVANTAGE#SELLPOINT'])"
      ]
     },
     "execution_count": 22,
     "metadata": {},
     "output_type": "execute_result"
    }
   ],
   "source": [
    "general_template_lines[2]"
   ]
  },
  {
   "cell_type": "code",
   "execution_count": 31,
   "metadata": {},
   "outputs": [],
   "source": [
    "#抽取same type列表\n",
    "def same_type_extract(template_list, slot_df):\n",
    "    type_same_list = []\n",
    "    for template in template_list:\n",
    "        if template[2].count('<') == 1:\n",
    "            cat = template[0]\n",
    "            #二级CAT预留\n",
    "            temp = template[2]\n",
    "            slot_word = template[3][0]\n",
    "            slot_type = template[4][0]\n",
    "            type_same_list_temp = []\n",
    "            for slot_line in slot_df:\n",
    "                slot_line_cat = slot_line[0]\n",
    "                slot_line_word = slot_line[1]\n",
    "                slot_line_type = slot_line[2]\n",
    "                if slot_line_cat == cat and slot_line_type == slot_type:\n",
    "                    if slot_line_word != slot_word:\n",
    "                        type_same_list_temp.append(slot_line_word)\n",
    "            type_same_list.append(type_same_list_temp)\n",
    "        elif template[2].count('<') > 1:\n",
    "            cat = template[0]\n",
    "            #二级CAT预留\n",
    "            temp = template[2]\n",
    "            slot_word_list = template[3]\n",
    "            slot_type_list = template[4]\n",
    "            type_same_list_temp = []\n",
    "            for i in range(len(slot_word_list)):\n",
    "                type_same_list_temp_temp = []\n",
    "                for slot_line in slot_df:\n",
    "                    slot_line_cat = slot_line[0]\n",
    "                    slot_line_word = slot_line[1]\n",
    "                    slot_line_type = slot_line[2]\n",
    "                    if slot_line_cat == cat and slot_line_type == slot_type_list[i]:\n",
    "                        if slot_line_word != slot_word_list[i]:\n",
    "                            type_same_list_temp_temp.append(slot_line_word)\n",
    "                type_same_list_temp.append(type_same_list_temp_temp)\n",
    "            type_same_list.append(type_same_list_temp)\n",
    "    return type_same_list"
   ]
  },
  {
   "cell_type": "code",
   "execution_count": 38,
   "metadata": {},
   "outputs": [
    {
     "name": "stderr",
     "output_type": "stream",
     "text": [
      "c:\\users\\v_ymzzhu\\appdata\\local\\programs\\python\\python37-32\\lib\\site-packages\\ipykernel_launcher.py:1: DeprecationWarning: time.clock has been deprecated in Python 3.3 and will be removed from Python 3.8: use time.perf_counter or time.process_time instead\n",
      "  \"\"\"Entry point for launching an IPython kernel.\n"
     ]
    },
    {
     "name": "stdout",
     "output_type": "stream",
     "text": [
      "Time used: 0.3070475320000696\n"
     ]
    },
    {
     "name": "stderr",
     "output_type": "stream",
     "text": [
      "c:\\users\\v_ymzzhu\\appdata\\local\\programs\\python\\python37-32\\lib\\site-packages\\ipykernel_launcher.py:3: DeprecationWarning: time.clock has been deprecated in Python 3.3 and will be removed from Python 3.8: use time.perf_counter or time.process_time instead\n",
      "  This is separate from the ipykernel package so we can avoid doing imports until\n"
     ]
    }
   ],
   "source": [
    "start = time.clock()\n",
    "type_same_list = same_type_extract(general_template_lines, slot_orin_list)\n",
    "elapsed = (time.clock() - start)\n",
    "print(\"Time used:\",elapsed)"
   ]
  },
  {
   "cell_type": "code",
   "execution_count": 82,
   "metadata": {},
   "outputs": [],
   "source": [
    "#avg_bias计算\n",
    "def sim_avg_bias_calculate(template_list, type_same_list, model, remain_word_list):\n",
    "    count_list = []\n",
    "    sim_slot_list = []\n",
    "    sim_avg_list = []\n",
    "    avg_bias_list = []\n",
    "    #for i in range(0,18):\n",
    "    for i in range(len(template_list)):\n",
    "        if template_list[i][2].count('<') == 1:\n",
    "            count_list.append(\"one\")\n",
    "            cat = template_list[i][0]\n",
    "            temp = template_list[i][2]\n",
    "            slot_word = template_list[i][3][0]\n",
    "            slot_type = template_list[i][4][0]\n",
    "            sim_slot_list_temp = []\n",
    "            sim_avg_list_temp = []\n",
    "            avg_bias_list_temp = []\n",
    "            for remain_word in remain_word_list[i]:\n",
    "                if slot_word in model and remain_word in model:\n",
    "                    sim_slot_temp = model.similarity(slot_word, remain_word)\n",
    "                    sim_sum = 0\n",
    "                    for type_same_word in type_same_list[i]:\n",
    "                        sim_sum_temp = model.similarity(type_same_word, remain_word)\n",
    "                        sim_sum = sim_sum + sim_sum_temp\n",
    "                    if (len(type_same_list[i])) != 0:\n",
    "                        sim_avg_temp = sim_sum/(len(type_same_list[i]))\n",
    "                    else:\n",
    "                        sim_avg_temp = 0\n",
    "                    avg_bias_temp = sim_slot_temp - sim_avg_temp\n",
    "                    sim_slot_list_temp.append(sim_slot_temp)\n",
    "                    sim_avg_list_temp.append(sim_avg_temp)\n",
    "                    avg_bias_list_temp.append(avg_bias_temp)\n",
    "                elif slot_word in model:\n",
    "                    sim_slot_list_temp.append(0)\n",
    "                    sim_avg_list_temp.append(0)\n",
    "                    avg_bias_list_temp.append(0)\n",
    "                else:\n",
    "                    sim_slot_list_temp.append(0)\n",
    "                    sim_avg_list_temp.append(0)\n",
    "                    avg_bias_list_temp.append(0)\n",
    "            sim_slot_list.append(sim_slot_list_temp)\n",
    "            sim_avg_list.append(sim_avg_list_temp)\n",
    "            avg_bias_list.append(avg_bias_list_temp)                  \n",
    "                    \n",
    "        elif template_list[i][2].count('<') > 1:\n",
    "            count_list.append(\"multi\")\n",
    "            cat = template_list[i][0]\n",
    "            #pop_word = template_list[i][1]\n",
    "            temp = template_list[i][2]\n",
    "            slot_word_list = template_list[i][3]\n",
    "            slot_type_list = template_list[i][4]\n",
    "            sim_slot_list_temp = []\n",
    "            sim_avg_list_temp = []\n",
    "            avg_bias_list_temp = []\n",
    "            for k in range(len(slot_word_list)):  \n",
    "                sim_slot_list_temp_k = []\n",
    "                sim_avg_list_temp_k = []\n",
    "                avg_bias_list_temp_k = []\n",
    "                for remain_word in remain_word_list[i]:\n",
    "                    if (slot_word_list[k] in model) and (remain_word in model):\n",
    "                        sim_slot_temp = model.similarity(slot_word_list[k], remain_word)\n",
    "                        sim_sum = 0\n",
    "                        len_type_same_word = len(type_same_list[i][k])\n",
    "                        for type_same_word in type_same_list[i][k]:\n",
    "                            sim_sum_temp = model.similarity(type_same_word, remain_word)\n",
    "                            sim_sum = sim_sum + sim_sum_temp\n",
    "                        if len_type_same_word != 0:\n",
    "                            sim_avg_temp = sim_sum / len_type_same_word\n",
    "                        else:\n",
    "                            sim_avg_temp = 0\n",
    "                        avg_bias_temp = sim_slot_temp - sim_avg_temp\n",
    "                        sim_slot_list_temp_k.append(sim_slot_temp)\n",
    "                        sim_avg_list_temp_k.append(sim_avg_temp)\n",
    "                        avg_bias_list_temp_k.append(avg_bias_temp)\n",
    "                    elif slot_word_list[k] in model:\n",
    "                        sim_slot_list_temp_k.append(0)\n",
    "                        sim_avg_list_temp_k.append(0)\n",
    "                        avg_bias_list_temp_k.append(0)\n",
    "                    else:\n",
    "                        sim_slot_list_temp_k.append(0)\n",
    "                        sim_avg_list_temp_k.append(0)\n",
    "                        avg_bias_list_temp_k.append(0) \n",
    "                sim_slot_list_temp.append(sim_slot_list_temp_k)\n",
    "                sim_avg_list_temp.append(sim_avg_list_temp_k)\n",
    "                avg_bias_list_temp.append(avg_bias_list_temp_k)\n",
    "            sim_slot_list.append(sim_slot_list_temp)\n",
    "            sim_avg_list.append(sim_avg_list_temp)\n",
    "            avg_bias_list.append(avg_bias_list_temp)\n",
    "            \n",
    "    return avg_bias_list"
   ]
  },
  {
   "cell_type": "code",
   "execution_count": 83,
   "metadata": {},
   "outputs": [
    {
     "name": "stderr",
     "output_type": "stream",
     "text": [
      "c:\\users\\v_ymzzhu\\appdata\\local\\programs\\python\\python37-32\\lib\\site-packages\\ipykernel_launcher.py:1: DeprecationWarning: time.clock has been deprecated in Python 3.3 and will be removed from Python 3.8: use time.perf_counter or time.process_time instead\n",
      "  \"\"\"Entry point for launching an IPython kernel.\n"
     ]
    },
    {
     "name": "stdout",
     "output_type": "stream",
     "text": [
      "Time used: 14.830660706000344\n"
     ]
    },
    {
     "name": "stderr",
     "output_type": "stream",
     "text": [
      "c:\\users\\v_ymzzhu\\appdata\\local\\programs\\python\\python37-32\\lib\\site-packages\\ipykernel_launcher.py:3: DeprecationWarning: time.clock has been deprecated in Python 3.3 and will be removed from Python 3.8: use time.perf_counter or time.process_time instead\n",
      "  This is separate from the ipykernel package so we can avoid doing imports until\n"
     ]
    }
   ],
   "source": [
    "start = time.clock()\n",
    "avg_bias_list = sim_avg_bias_calculate(general_template_lines, type_same_list, model, remain_word_lines)\n",
    "elapsed = (time.clock() - start)\n",
    "print(\"Time used:\",elapsed)"
   ]
  },
  {
   "cell_type": "code",
   "execution_count": 84,
   "metadata": {},
   "outputs": [
    {
     "data": {
      "text/plain": [
       "28484"
      ]
     },
     "execution_count": 84,
     "metadata": {},
     "output_type": "execute_result"
    }
   ],
   "source": [
    "len(avg_bias_list)"
   ]
  },
  {
   "cell_type": "code",
   "execution_count": 81,
   "metadata": {},
   "outputs": [
    {
     "data": {
      "text/plain": [
       "['身份证', '钱']"
      ]
     },
     "execution_count": 81,
     "metadata": {},
     "output_type": "execute_result"
    }
   ],
   "source": [
    "remain_word_lines[0]"
   ]
  },
  {
   "cell_type": "code",
   "execution_count": 78,
   "metadata": {},
   "outputs": [
    {
     "data": {
      "text/plain": [
       "[[0.027149495979150146,\n",
       "  -0.11340851253933382,\n",
       "  0.06572353508737352,\n",
       "  -0.029272109270095825],\n",
       " [0.028443943295213908,\n",
       "  0.18014976051118636,\n",
       "  0.03512242767545912,\n",
       "  0.0973619321982066]]"
      ]
     },
     "execution_count": 78,
     "metadata": {},
     "output_type": "execute_result"
    }
   ],
   "source": [
    "avg_bias_list[17]"
   ]
  },
  {
   "cell_type": "code",
   "execution_count": 69,
   "metadata": {},
   "outputs": [
    {
     "data": {
      "text/plain": [
       "('金融',\n",
       " '金融综合线上平台',\n",
       " '无需抵押，足不出户，凭<CATETYPE0>最高可<CATETYPE0>{金额}',\n",
       " ['信用卡', '贷款'],\n",
       " ['CATETYPE0', 'CATETYPE0'])"
      ]
     },
     "execution_count": 69,
     "metadata": {},
     "output_type": "execute_result"
    }
   ],
   "source": [
    "general_template_lines[17]"
   ]
  },
  {
   "cell_type": "code",
   "execution_count": 80,
   "metadata": {},
   "outputs": [
    {
     "data": {
      "text/plain": [
       "['无需', '抵押', '足不出户', '金额']"
      ]
     },
     "execution_count": 80,
     "metadata": {},
     "output_type": "execute_result"
    }
   ],
   "source": [
    "remain_word_lines[17]"
   ]
  },
  {
   "cell_type": "code",
   "execution_count": null,
   "metadata": {},
   "outputs": [],
   "source": []
  }
 ],
 "metadata": {
  "kernelspec": {
   "display_name": "Python 3",
   "language": "python",
   "name": "python3"
  },
  "language_info": {
   "codemirror_mode": {
    "name": "ipython",
    "version": 3
   },
   "file_extension": ".py",
   "mimetype": "text/x-python",
   "name": "python",
   "nbconvert_exporter": "python",
   "pygments_lexer": "ipython3",
   "version": "3.7.3"
  }
 },
 "nbformat": 4,
 "nbformat_minor": 2
}
