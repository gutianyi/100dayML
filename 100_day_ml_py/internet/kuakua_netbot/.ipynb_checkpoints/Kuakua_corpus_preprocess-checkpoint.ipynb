{
 "cells": [
  {
   "cell_type": "code",
   "execution_count": 41,
   "metadata": {},
   "outputs": [],
   "source": [
    "import time"
   ]
  },
  {
   "cell_type": "code",
   "execution_count": 1,
   "metadata": {},
   "outputs": [],
   "source": [
    "import json\n",
    "f =open('kuakua_500.sample.json',encoding='utf-8') \n",
    "res = f.read()\n",
    "kua_json = json.loads(res)"
   ]
  },
  {
   "cell_type": "code",
   "execution_count": 6,
   "metadata": {},
   "outputs": [],
   "source": [
    "kua_kua_lines = []\n",
    "with open('kuakua_500.sample.txt', 'r', encoding='utf-8') as inf:\n",
    "    for line in inf:\n",
    "        items = line.strip('\\r\\n')\n",
    "        kua_kua_lines.append(items)"
   ]
  },
  {
   "cell_type": "code",
   "execution_count": 26,
   "metadata": {},
   "outputs": [
    {
     "data": {
      "text/plain": [
       "{'title': '单亲职场妈妈，压力有点大',\n",
       " 'url': 'https://www.douban.com/group/topic/135675126/',\n",
       " 'author': '193333271',\n",
       " 'last_reply_time': '03-17 21:31',\n",
       " 'content': '嗯，单亲、职场妈妈。虽然消失到外太空的前夫已然构不成心理伤害，但平衡照顾宝贝和工作事业间，确实压力有点大😂。今天看到朋友圈的帖子，突然好想也来求表扬。\\n',\n",
       " 'replies_num': '72',\n",
       " 'replies': [{'content': '加油＾０＾~',\n",
       "   'post_id': '135675126',\n",
       "   'comment_id': '1832177077',\n",
       "   'user_id': '70191315',\n",
       "   'pub_time': '2019-03-14 10:21:35'},\n",
       "  {'content': '😂谢谢你，我居然真的笑出了眼泪！',\n",
       "   'post_id': '135675126',\n",
       "   'comment_id': '1832177330',\n",
       "   'user_id': '193333271',\n",
       "   'pub_time': '2019-03-14 10:21:49'},\n",
       "  {'content': '加油 会越来越好的 我表扬完你后，可以表扬下我吗？我没自信地不开心…一下子就情绪低落…',\n",
       "   'post_id': '135675126',\n",
       "   'comment_id': '1832177492',\n",
       "   'user_id': '170482237',\n",
       "   'pub_time': '2019-03-14 10:21:59'},\n",
       "  {'content': '谢谢你表扬我，你这么有爱心❤，一定是个善良的好孩子！',\n",
       "   'post_id': '135675126',\n",
       "   'comment_id': '1832178802',\n",
       "   'user_id': '193333271',\n",
       "   'pub_time': '2019-03-14 10:23:13'},\n",
       "  {'content': '你很厉害哦，你的宝宝一定也会很勇敢很优秀的！',\n",
       "   'post_id': '135675126',\n",
       "   'comment_id': '1832184020',\n",
       "   'user_id': '140657010',\n",
       "   'pub_time': '2019-03-14 10:28:08'},\n",
       "  {'content': '仿佛看到了我的未来，祝你一切顺利吧',\n",
       "   'post_id': '135675126',\n",
       "   'comment_id': '1832186241',\n",
       "   'user_id': '179691279',\n",
       "   'pub_time': '2019-03-14 10:30:14'},\n",
       "  {'content': '谢谢的鼓励❤',\n",
       "   'post_id': '135675126',\n",
       "   'comment_id': '1832188049',\n",
       "   'user_id': '193333271',\n",
       "   'pub_time': '2019-03-14 10:31:55'},\n",
       "  {'content': '前夫那两个字可以消失了💪',\n",
       "   'post_id': '135675126',\n",
       "   'comment_id': '1832200567',\n",
       "   'user_id': '191295712',\n",
       "   'pub_time': '2019-03-14 10:43:13'},\n",
       "  {'content': '在美国，这样的女生很受欢迎呢，参考傲骨贤妻',\n",
       "   'post_id': '135675126',\n",
       "   'comment_id': '1832205522',\n",
       "   'user_id': '192766857',\n",
       "   'pub_time': '2019-03-14 10:47:34'},\n",
       "  {'content': '那你很酷哦！给孩子当个好榜样！',\n",
       "   'post_id': '135675126',\n",
       "   'comment_id': '1832209821',\n",
       "   'user_id': '61357794',\n",
       "   'pub_time': '2019-03-14 10:51:26'},\n",
       "  {'content': '优秀的女性！独立的魅力！伟大的母亲！你真棒！',\n",
       "   'post_id': '135675126',\n",
       "   'comment_id': '1832211488',\n",
       "   'user_id': '68162866',\n",
       "   'pub_time': '2019-03-14 10:52:56'},\n",
       "  {'content': '加油！＾０＾~',\n",
       "   'post_id': '135675126',\n",
       "   'comment_id': '1832213015',\n",
       "   'user_id': '192544602',\n",
       "   'pub_time': '2019-03-14 10:54:13'},\n",
       "  {'content': '天将降大任于斯人也，必先苦其心志，劳其筋骨。单身家庭长大的孩子，更能理解生活中的苦难，能理解他人的人，更有机会成为人上人。',\n",
       "   'post_id': '135675126',\n",
       "   'comment_id': '1832213996',\n",
       "   'user_id': '138986180',\n",
       "   'pub_time': '2019-03-14 10:55:08'},\n",
       "  {'content': '真好，你可以得到孩子两份爱呢！',\n",
       "   'post_id': '135675126',\n",
       "   'comment_id': '1832214428',\n",
       "   'user_id': '193099651',\n",
       "   'pub_time': '2019-03-14 10:55:31'},\n",
       "  {'content': '你真棒!生活会越来越好的!',\n",
       "   'post_id': '135675126',\n",
       "   'comment_id': '1832219839',\n",
       "   'user_id': '100661251',\n",
       "   'pub_time': '2019-03-14 11:00:37'},\n",
       "  {'content': '你真的很棒！你的孩子会以你为骄傲',\n",
       "   'post_id': '135675126',\n",
       "   'comment_id': '1832222316',\n",
       "   'user_id': '56385014',\n",
       "   'pub_time': '2019-03-14 11:02:50'},\n",
       "  {'content': '哇，那你很厉害啊👍过了这段时间会好起来的，着手把能做好的事尽量做好，其他就随意吧！别给自己太大压力了，也别总觉得自己要很完美才行，其实你已经比很多人强啦！',\n",
       "   'post_id': '135675126',\n",
       "   'comment_id': '1832227703',\n",
       "   'user_id': '89768519',\n",
       "   'pub_time': '2019-03-14 11:07:36'},\n",
       "  {'content': '你好厉害啊 加油 一切都会变好的',\n",
       "   'post_id': '135675126',\n",
       "   'comment_id': '1832234465',\n",
       "   'user_id': '106339047',\n",
       "   'pub_time': '2019-03-14 11:13:23'},\n",
       "  {'content': '加班   你很棒',\n",
       "   'post_id': '135675126',\n",
       "   'comment_id': '1832253260',\n",
       "   'user_id': '175588443',\n",
       "   'pub_time': '2019-03-14 11:30:21'},\n",
       "  {'content': '谢谢你！',\n",
       "   'post_id': '135675126',\n",
       "   'comment_id': '1832296219',\n",
       "   'user_id': '193333271',\n",
       "   'pub_time': '2019-03-14 12:12:15'},\n",
       "  {'content': '😍',\n",
       "   'post_id': '135675126',\n",
       "   'comment_id': '1832296458',\n",
       "   'user_id': '193333271',\n",
       "   'pub_time': '2019-03-14 12:12:29'},\n",
       "  {'content': '谢谢你！',\n",
       "   'post_id': '135675126',\n",
       "   'comment_id': '1832296651',\n",
       "   'user_id': '193333271',\n",
       "   'pub_time': '2019-03-14 12:12:41'},\n",
       "  {'content': '谢谢你的鼓励！',\n",
       "   'post_id': '135675126',\n",
       "   'comment_id': '1832297230',\n",
       "   'user_id': '193333271',\n",
       "   'pub_time': '2019-03-14 12:13:17'},\n",
       "  {'content': '加油💪',\n",
       "   'post_id': '135675126',\n",
       "   'comment_id': '1832297442',\n",
       "   'user_id': '193333271',\n",
       "   'pub_time': '2019-03-14 12:13:29'},\n",
       "  {'content': '谢谢你的鼓励！',\n",
       "   'post_id': '135675126',\n",
       "   'comment_id': '1832297607',\n",
       "   'user_id': '193333271',\n",
       "   'pub_time': '2019-03-14 12:13:39'},\n",
       "  {'content': '谢谢你！',\n",
       "   'post_id': '135675126',\n",
       "   'comment_id': '1832297803',\n",
       "   'user_id': '193333271',\n",
       "   'pub_time': '2019-03-14 12:13:52'},\n",
       "  {'content': '谢谢你！',\n",
       "   'post_id': '135675126',\n",
       "   'comment_id': '1832297903',\n",
       "   'user_id': '193333271',\n",
       "   'pub_time': '2019-03-14 12:13:58'},\n",
       "  {'content': '谢谢❤💪',\n",
       "   'post_id': '135675126',\n",
       "   'comment_id': '1832298205',\n",
       "   'user_id': '193333271',\n",
       "   'pub_time': '2019-03-14 12:14:18'},\n",
       "  {'content': '谢谢！好温暖！',\n",
       "   'post_id': '135675126',\n",
       "   'comment_id': '1832298503',\n",
       "   'user_id': '193333271',\n",
       "   'pub_time': '2019-03-14 12:14:39'},\n",
       "  {'content': '❤',\n",
       "   'post_id': '135675126',\n",
       "   'comment_id': '1832298585',\n",
       "   'user_id': '193333271',\n",
       "   'pub_time': '2019-03-14 12:14:44'},\n",
       "  {'content': '好好想清楚，一定别后悔。',\n",
       "   'post_id': '135675126',\n",
       "   'comment_id': '1832299661',\n",
       "   'user_id': '193333271',\n",
       "   'pub_time': '2019-03-14 12:15:51'},\n",
       "  {'content': '楼主很棒！你也很棒！自己心情不好了还在坚持表扬别人，给别人带来正能量，超厉害der！',\n",
       "   'post_id': '135675126',\n",
       "   'comment_id': '1832300209',\n",
       "   'user_id': 'mrsbean',\n",
       "   'pub_time': '2019-03-14 12:16:23'},\n",
       "  {'content': '那你现在又有整片森林了',\n",
       "   'post_id': '135675126',\n",
       "   'comment_id': '1832385535',\n",
       "   'user_id': 'zs0001000',\n",
       "   'pub_time': '2019-03-14 13:34:34'},\n",
       "  {'content': '你真的很棒，你的孩子会以你为傲的',\n",
       "   'post_id': '135675126',\n",
       "   'comment_id': '1832410973',\n",
       "   'user_id': '187845592',\n",
       "   'pub_time': '2019-03-14 13:58:20'},\n",
       "  {'content': '有多少人想要成为你，却没有勇气踏出第一步～为你的勇气鼓掌👏',\n",
       "   'post_id': '135675126',\n",
       "   'comment_id': '1832414804',\n",
       "   'user_id': '189210658',\n",
       "   'pub_time': '2019-03-14 14:02:03'},\n",
       "  {'content': '你真是好勇敢的一个人，能顶住那么大的压力。好厉害！',\n",
       "   'post_id': '135675126',\n",
       "   'comment_id': '1832420352',\n",
       "   'user_id': '49597560',\n",
       "   'pub_time': '2019-03-14 14:07:06'},\n",
       "  {'content': '独立女性永远是闪闪发光的美少女战士~这么勇敢的姑娘一定会幸福的~',\n",
       "   'post_id': '135675126',\n",
       "   'comment_id': '1832423281',\n",
       "   'user_id': '44561031',\n",
       "   'pub_time': '2019-03-14 14:09:45'},\n",
       "  {'content': '好厉害呀 加油💪',\n",
       "   'post_id': '135675126',\n",
       "   'comment_id': '1832429043',\n",
       "   'user_id': '171299063',\n",
       "   'pub_time': '2019-03-14 14:15:04'},\n",
       "  {'content': '很有勇气也有魄力，你真的很棒！',\n",
       "   'post_id': '135675126',\n",
       "   'comment_id': '1832459153',\n",
       "   'user_id': '187851156',\n",
       "   'pub_time': '2019-03-14 14:43:25'},\n",
       "  {'content': '加油',\n",
       "   'post_id': '135675126',\n",
       "   'comment_id': '1832471774',\n",
       "   'user_id': '193129444',\n",
       "   'pub_time': '2019-03-14 14:56:07'},\n",
       "  {'content': '💝谢谢你',\n",
       "   'post_id': '135675126',\n",
       "   'comment_id': '1832760880',\n",
       "   'user_id': '193333271',\n",
       "   'pub_time': '2019-03-14 19:29:49'},\n",
       "  {'content': '谢谢你',\n",
       "   'post_id': '135675126',\n",
       "   'comment_id': '1832760987',\n",
       "   'user_id': '193333271',\n",
       "   'pub_time': '2019-03-14 19:29:55'},\n",
       "  {'content': '谢谢你',\n",
       "   'post_id': '135675126',\n",
       "   'comment_id': '1832761063',\n",
       "   'user_id': '193333271',\n",
       "   'pub_time': '2019-03-14 19:30:00'},\n",
       "  {'content': '谢谢你',\n",
       "   'post_id': '135675126',\n",
       "   'comment_id': '1832761181',\n",
       "   'user_id': '193333271',\n",
       "   'pub_time': '2019-03-14 19:30:07'},\n",
       "  {'content': '谢谢你！！',\n",
       "   'post_id': '135675126',\n",
       "   'comment_id': '1832761341',\n",
       "   'user_id': '193333271',\n",
       "   'pub_time': '2019-03-14 19:30:16'},\n",
       "  {'content': '谢谢你！',\n",
       "   'post_id': '135675126',\n",
       "   'comment_id': '1832761911',\n",
       "   'user_id': '193333271',\n",
       "   'pub_time': '2019-03-14 19:30:50'},\n",
       "  {'content': '谢谢！',\n",
       "   'post_id': '135675126',\n",
       "   'comment_id': '1832762079',\n",
       "   'user_id': '193333271',\n",
       "   'pub_time': '2019-03-14 19:31:01'},\n",
       "  {'content': '谢谢！',\n",
       "   'post_id': '135675126',\n",
       "   'comment_id': '1832762233',\n",
       "   'user_id': '193333271',\n",
       "   'pub_time': '2019-03-14 19:31:09'},\n",
       "  {'content': '一定很辛苦吧 谢谢你呀 能把自己和小孩都照顾到',\n",
       "   'post_id': '135675126',\n",
       "   'comment_id': '1832763301',\n",
       "   'user_id': 'hackey',\n",
       "   'pub_time': '2019-03-14 19:32:12'},\n",
       "  {'content': '互夸的来，传送门：https://www.douban.com/group/topic/135503864/',\n",
       "   'post_id': '135675126',\n",
       "   'comment_id': '1832764490',\n",
       "   'user_id': '193364019',\n",
       "   'pub_time': '2019-03-14 19:33:26'},\n",
       "  {'content': '和你一样，互相加个油！',\n",
       "   'post_id': '135675126',\n",
       "   'comment_id': '1832888860',\n",
       "   'user_id': '138627851',\n",
       "   'pub_time': '2019-03-14 21:28:13'},\n",
       "  {'content': '生活不会辜负努力的人，加油！',\n",
       "   'post_id': '135675126',\n",
       "   'comment_id': '1832898282',\n",
       "   'user_id': 'anshangdeboniu',\n",
       "   'pub_time': '2019-03-14 21:36:21'},\n",
       "  {'content': '你比我们都厉害欸',\n",
       "   'post_id': '135675126',\n",
       "   'comment_id': '1832900124',\n",
       "   'user_id': '178264315',\n",
       "   'pub_time': '2019-03-14 21:38:00'},\n",
       "  {'content': '加油你可以的',\n",
       "   'post_id': '135675126',\n",
       "   'comment_id': '1832990456',\n",
       "   'user_id': '87560928',\n",
       "   'pub_time': '2019-03-14 22:52:55'},\n",
       "  {'content': '及时止损，勇气可嘉',\n",
       "   'post_id': '135675126',\n",
       "   'comment_id': '1832992107',\n",
       "   'user_id': '192217231',\n",
       "   'pub_time': '2019-03-14 22:54:16'},\n",
       "  {'content': '有能力把宝贝留在自己身边就很赞！为宝贝努力工作的妈妈是天使！累了就休息一会儿，此处有一万个拥抱。',\n",
       "   'post_id': '135675126',\n",
       "   'comment_id': '1833165805',\n",
       "   'user_id': '193334118',\n",
       "   'pub_time': '2019-03-15 06:01:27'},\n",
       "  {'content': '抱抱独立勇敢温暖的楼主，你的努力孩子都会看到的，一定会成长为像你一样优秀的人儿。',\n",
       "   'post_id': '135675126',\n",
       "   'comment_id': '1833171087',\n",
       "   'user_id': '192753593',\n",
       "   'pub_time': '2019-03-15 06:51:59'},\n",
       "  {'content': '加油呀，你是独一无二的，单亲妈妈，抵御人间苍桑，坚强任性，孩子将会以你为傲的',\n",
       "   'post_id': '135675126',\n",
       "   'comment_id': '1833238024',\n",
       "   'user_id': '193239520',\n",
       "   'pub_time': '2019-03-15 09:16:10'},\n",
       "  {'content': '谢谢你的鼓励！',\n",
       "   'post_id': '135675126',\n",
       "   'comment_id': '1834151445',\n",
       "   'user_id': '193333271',\n",
       "   'pub_time': '2019-03-16 00:02:54'},\n",
       "  {'content': '谢谢你！',\n",
       "   'post_id': '135675126',\n",
       "   'comment_id': '1834151927',\n",
       "   'user_id': '193333271',\n",
       "   'pub_time': '2019-03-16 00:03:24'},\n",
       "  {'content': '谢谢你！',\n",
       "   'post_id': '135675126',\n",
       "   'comment_id': '1834152083',\n",
       "   'user_id': '193333271',\n",
       "   'pub_time': '2019-03-16 00:03:33'},\n",
       "  {'content': '谢谢你！',\n",
       "   'post_id': '135675126',\n",
       "   'comment_id': '1834152336',\n",
       "   'user_id': '193333271',\n",
       "   'pub_time': '2019-03-16 00:03:49'},\n",
       "  {'content': '嗯嗯！谢谢你！',\n",
       "   'post_id': '135675126',\n",
       "   'comment_id': '1834152599',\n",
       "   'user_id': '193333271',\n",
       "   'pub_time': '2019-03-16 00:04:04'},\n",
       "  {'content': '谢谢你！你也很棒！',\n",
       "   'post_id': '135675126',\n",
       "   'comment_id': '1834153122',\n",
       "   'user_id': '193333271',\n",
       "   'pub_time': '2019-03-16 00:04:34'},\n",
       "  {'content': '谢谢你鼓励我！',\n",
       "   'post_id': '135675126',\n",
       "   'comment_id': '1834153388',\n",
       "   'user_id': '193333271',\n",
       "   'pub_time': '2019-03-16 00:04:51'},\n",
       "  {'content': '加油！！',\n",
       "   'post_id': '135675126',\n",
       "   'comment_id': '1834153658',\n",
       "   'user_id': '193333271',\n",
       "   'pub_time': '2019-03-16 00:05:08'},\n",
       "  {'content': '嗯！谢谢你！',\n",
       "   'post_id': '135675126',\n",
       "   'comment_id': '1834153823',\n",
       "   'user_id': '193333271',\n",
       "   'pub_time': '2019-03-16 00:05:18'},\n",
       "  {'content': '敢于面对现实，选择自己想过的生活，您真的很有勇气！',\n",
       "   'post_id': '135675126',\n",
       "   'comment_id': '1834178974',\n",
       "   'user_id': 'elbuod',\n",
       "   'pub_time': '2019-03-16 00:30:57'},\n",
       "  {'content': '谢谢你的鼓励！',\n",
       "   'post_id': '135675126',\n",
       "   'comment_id': '1834843217',\n",
       "   'user_id': '193333271',\n",
       "   'pub_time': '2019-03-16 18:41:54'},\n",
       "  {'content': '史上最强互夸组织，走：https://www.douban.com/group/topic/135503864/',\n",
       "   'post_id': '135675126',\n",
       "   'comment_id': '1834893964',\n",
       "   'user_id': '193393837',\n",
       "   'pub_time': '2019-03-16 19:37:09'},\n",
       "  {'content': '你很棒，照顾宝贝的同时，也不要忽略了自己呀，一定要健健康康的，你一定会幸福的！加油↖(^ω^)↗',\n",
       "   'post_id': '135675126',\n",
       "   'comment_id': '1835076595',\n",
       "   'user_id': '192131071',\n",
       "   'pub_time': '2019-03-16 22:30:24'},\n",
       "  {'content': '谢谢你的鼓励！让我心里很温暖！谢谢！',\n",
       "   'post_id': '135675126',\n",
       "   'comment_id': '1836007358',\n",
       "   'user_id': '193333271',\n",
       "   'pub_time': '2019-03-17 21:31:08'}]}"
      ]
     },
     "execution_count": 26,
     "metadata": {},
     "output_type": "execute_result"
    }
   ],
   "source": [
    "json.loads(kua_kua_lines[400])"
   ]
  },
  {
   "cell_type": "code",
   "execution_count": 28,
   "metadata": {},
   "outputs": [
    {
     "data": {
      "text/plain": [
       "{'content': '学术狗不容易，我词汇贫瘠，但是一定加油哦~',\n",
       " 'post_id': '136147338',\n",
       " 'comment_id': '1836554352',\n",
       " 'user_id': '185921704',\n",
       " 'pub_time': '2019-03-18 13:21:44'}"
      ]
     },
     "execution_count": 28,
     "metadata": {},
     "output_type": "execute_result"
    }
   ],
   "source": [
    "json.loads(kua_kua_lines[0])['replies'][0]['content']"
   ]
  },
  {
   "cell_type": "code",
   "execution_count": 32,
   "metadata": {},
   "outputs": [],
   "source": [
    "kuakua_pairs = []\n",
    "for i in range(len(kua_kua_lines)):\n",
    "    kua_temp = json.loads(kua_kua_lines[i])\n",
    "    question = kua_temp['title']\n",
    "    for j in range(len(kua_temp['replies'])):\n",
    "        answer = kua_temp['replies'][j]['content']\n",
    "        if 20 > len(answer) > 3:\n",
    "            kuakua_pairs.append((question, answer))"
   ]
  },
  {
   "cell_type": "code",
   "execution_count": 34,
   "metadata": {},
   "outputs": [
    {
     "data": {
      "text/plain": [
       "7117"
      ]
     },
     "execution_count": 34,
     "metadata": {},
     "output_type": "execute_result"
    }
   ],
   "source": [
    "len(kuakua_pairs)"
   ]
  },
  {
   "cell_type": "code",
   "execution_count": 35,
   "metadata": {},
   "outputs": [],
   "source": [
    "output = open(\"kuakua_qa_pairs.txt\", 'w', encoding=\"utf-8\")\n",
    "for row in kuakua_pairs:\n",
    "    rowtxt = '\\t'.join(row)\n",
    "    output.write(rowtxt)\n",
    "    output.write('\\n')\n",
    "output.close()"
   ]
  },
  {
   "cell_type": "markdown",
   "metadata": {},
   "source": [
    "# 词向量模型训练"
   ]
  },
  {
   "cell_type": "code",
   "execution_count": 36,
   "metadata": {},
   "outputs": [],
   "source": [
    "import jieba\n",
    "qa_list = []\n",
    "for i in range(len(kuakua_pairs)):\n",
    "    q_temp = kuakua_pairs[i][0]\n",
    "    a_temp = kuakua_pairs[i][1]  \n",
    "    qa_list.append(q_temp)\n",
    "    qa_list.append(a_temp)"
   ]
  },
  {
   "cell_type": "code",
   "execution_count": 37,
   "metadata": {},
   "outputs": [],
   "source": [
    "qa_list = list(set(qa_list))"
   ]
  },
  {
   "cell_type": "code",
   "execution_count": 38,
   "metadata": {},
   "outputs": [
    {
     "name": "stderr",
     "output_type": "stream",
     "text": [
      "Building prefix dict from the default dictionary ...\n",
      "Dumping model to file cache C:\\Users\\ymzhu\\AppData\\Local\\Temp\\jieba.cache\n",
      "Loading model cost 0.655 seconds.\n",
      "Prefix dict has been built succesfully.\n"
     ]
    }
   ],
   "source": [
    "qa_jieba_list = []\n",
    "for i in range(len(qa_list)):\n",
    "    temp = list(jieba.cut(qa_list[i]))\n",
    "    qa_jieba_list.append(temp)"
   ]
  },
  {
   "cell_type": "code",
   "execution_count": 42,
   "metadata": {},
   "outputs": [
    {
     "name": "stderr",
     "output_type": "stream",
     "text": [
      "C:\\ProgramData\\Anaconda3\\lib\\site-packages\\ipykernel_launcher.py:1: DeprecationWarning: time.clock has been deprecated in Python 3.3 and will be removed from Python 3.8: use time.perf_counter or time.process_time instead\n",
      "  \"\"\"Entry point for launching an IPython kernel.\n"
     ]
    },
    {
     "name": "stdout",
     "output_type": "stream",
     "text": [
      "Time used: 7.805377899999712\n"
     ]
    },
    {
     "name": "stderr",
     "output_type": "stream",
     "text": [
      "C:\\ProgramData\\Anaconda3\\lib\\site-packages\\ipykernel_launcher.py:5: DeprecationWarning: time.clock has been deprecated in Python 3.3 and will be removed from Python 3.8: use time.perf_counter or time.process_time instead\n",
      "  \"\"\"\n"
     ]
    }
   ],
   "source": [
    "start = time.clock()\n",
    "from gensim.models import Word2Vec\n",
    "\n",
    "model = Word2Vec(qa_jieba_list, sg=1, size=100,  window=5,  min_count=1,  negative=3, sample=0.001, hs=1)\n",
    "elapsed = (time.clock() - start)\n",
    "print(\"Time used:\",elapsed)"
   ]
  },
  {
   "cell_type": "code",
   "execution_count": 43,
   "metadata": {},
   "outputs": [],
   "source": [
    "model.save(\"model/word2vec_kuakua.model\")"
   ]
  },
  {
   "cell_type": "code",
   "execution_count": 56,
   "metadata": {},
   "outputs": [],
   "source": [
    "q_list_jieba = []\n",
    "for i in range(len(kuakua_pairs)):\n",
    "    q_temp = kuakua_pairs[i][0]  \n",
    "    q_temp_jieba = list(jieba.cut(q_temp))\n",
    "    if (q_temp_jieba in q_list_jieba) == False:\n",
    "        q_list_jieba.append(q_temp_jieba)"
   ]
  },
  {
   "cell_type": "code",
   "execution_count": 105,
   "metadata": {},
   "outputs": [],
   "source": [
    "from gensim.similarities import WmdSimilarity\n",
    "num_best = 5\n",
    "instance = WmdSimilarity(q_list_jieba , model, num_best=5)"
   ]
  },
  {
   "cell_type": "code",
   "execution_count": 129,
   "metadata": {},
   "outputs": [
    {
     "name": "stdout",
     "output_type": "stream",
     "text": [
      "Time used: 0.1425159000000349\n"
     ]
    },
    {
     "name": "stderr",
     "output_type": "stream",
     "text": [
      "C:\\ProgramData\\Anaconda3\\lib\\site-packages\\ipykernel_launcher.py:1: DeprecationWarning: time.clock has been deprecated in Python 3.3 and will be removed from Python 3.8: use time.perf_counter or time.process_time instead\n",
      "  \"\"\"Entry point for launching an IPython kernel.\n",
      "C:\\ProgramData\\Anaconda3\\lib\\site-packages\\ipykernel_launcher.py:5: DeprecationWarning: time.clock has been deprecated in Python 3.3 and will be removed from Python 3.8: use time.perf_counter or time.process_time instead\n",
      "  \"\"\"\n"
     ]
    }
   ],
   "source": [
    "start = time.clock()\n",
    "sent_w = list(jieba.cut(\"我只有160\"))\n",
    "#在相似性类中的“查找”query\n",
    "sims = instance[sent_w ]\n",
    "elapsed = (time.clock() - start)\n",
    "print(\"Time used:\",elapsed)"
   ]
  },
  {
   "cell_type": "code",
   "execution_count": 130,
   "metadata": {},
   "outputs": [
    {
     "data": {
      "text/plain": [
       "[(374, 0.7641616108287442),\n",
       " (123, 0.7008559773284515),\n",
       " (137, 0.6716733864329112),\n",
       " (29, 0.6704040563683067),\n",
       " (215, 0.6673693665253053)]"
      ]
     },
     "execution_count": 130,
     "metadata": {},
     "output_type": "execute_result"
    }
   ],
   "source": [
    "sims"
   ]
  },
  {
   "cell_type": "code",
   "execution_count": 131,
   "metadata": {},
   "outputs": [
    {
     "data": {
      "text/plain": [
       "['我', '好想哭']"
      ]
     },
     "execution_count": 131,
     "metadata": {},
     "output_type": "execute_result"
    }
   ],
   "source": [
    "q_list_jieba [sims[0][0]]"
   ]
  },
  {
   "cell_type": "code",
   "execution_count": 132,
   "metadata": {},
   "outputs": [
    {
     "data": {
      "text/plain": [
       "['我', '分手', '了']"
      ]
     },
     "execution_count": 132,
     "metadata": {},
     "output_type": "execute_result"
    }
   ],
   "source": [
    "q_list_jieba [sims[1][0]]"
   ]
  },
  {
   "cell_type": "code",
   "execution_count": 133,
   "metadata": {},
   "outputs": [
    {
     "data": {
      "text/plain": [
       "['全', '天下', '就', '只', '剩', '我', '一个', '丑', '女孩', '了']"
      ]
     },
     "execution_count": 133,
     "metadata": {},
     "output_type": "execute_result"
    }
   ],
   "source": [
    "q_list_jieba [sims[2][0]]"
   ]
  },
  {
   "cell_type": "code",
   "execution_count": null,
   "metadata": {},
   "outputs": [],
   "source": []
  },
  {
   "cell_type": "code",
   "execution_count": 116,
   "metadata": {},
   "outputs": [],
   "source": [
    "kuakua_pairs = []\n",
    "with open('kuakua_qa_pairs.txt', 'r', encoding='utf-8') as inf:\n",
    "    for line in inf:\n",
    "        items = line.strip('\\r\\n').split('\\t')\n",
    "        kuakua_pairs.append(items)"
   ]
  },
  {
   "cell_type": "code",
   "execution_count": 118,
   "metadata": {},
   "outputs": [
    {
     "data": {
      "text/plain": [
       "['老板说看到我的实验结果愁得两天没睡好', '老板对你这么上心 是好事呀']"
      ]
     },
     "execution_count": 118,
     "metadata": {},
     "output_type": "execute_result"
    }
   ],
   "source": [
    "kuakua_pairs[0]"
   ]
  },
  {
   "cell_type": "code",
   "execution_count": null,
   "metadata": {},
   "outputs": [],
   "source": []
  }
 ],
 "metadata": {
  "kernelspec": {
   "display_name": "Python 3",
   "language": "python",
   "name": "python3"
  },
  "language_info": {
   "codemirror_mode": {
    "name": "ipython",
    "version": 3
   },
   "file_extension": ".py",
   "mimetype": "text/x-python",
   "name": "python",
   "nbconvert_exporter": "python",
   "pygments_lexer": "ipython3",
   "version": "3.7.3"
  }
 },
 "nbformat": 4,
 "nbformat_minor": 2
}
