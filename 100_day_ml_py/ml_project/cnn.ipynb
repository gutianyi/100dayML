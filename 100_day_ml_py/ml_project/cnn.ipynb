{
 "cells": [
  {
   "cell_type": "code",
   "execution_count": 1,
   "metadata": {},
   "outputs": [],
   "source": [
    "import torch\n",
    "import torch.nn as nn\n",
    "import torch.optim as optim\n",
    "from sklearn.model_selection import train_test_split\n",
    "from torch.autograd import Variable"
   ]
  },
  {
   "cell_type": "code",
   "execution_count": 2,
   "metadata": {},
   "outputs": [],
   "source": [
    "# 定义 Convolution Network 模型\n",
    "class Cnn(nn.Module):\n",
    "    def __init__(self,num_classes):\n",
    "        super(Cnn, self).__init__()\n",
    "        self.layer1 = nn.Sequential(  \n",
    "            nn.Conv2d(1, 12, kernel_size=2, padding=2), \n",
    "            nn.BatchNorm2d(12),  # 对这16个结果进行规范处理，\n",
    "            nn.ReLU(), # 激活函数\n",
    "            nn.MaxPool2d(kernel_size=2, stride=2))\n",
    "\n",
    "        self.layer2 = nn.Sequential(\n",
    "            nn.Conv2d(12, 24, kernel_size=2, stride=1, padding=2),# 14+2*2-5+1=14  该次卷积后output_size = 14*14\n",
    "            nn.BatchNorm2d(24),\n",
    "            nn.ReLU(),\n",
    "            nn.MaxPool2d(kernel_size=2, stride=2))\t# 14/2=7 池化后为7*7\n",
    "\n",
    "        self.predict = nn.Linear(216, num_classes)\n",
    " \n",
    "    def forward(self, x):\n",
    "        out = self.layer1(x)\n",
    "        out = self.layer2(out)\n",
    "        out = out.reshape(out.size(0), -1)\n",
    "        out = self.predict(out)\n",
    "        return out\n",
    "# use_gpu = torch.cuda.is_available()  # 判断是否有GPU加速\n",
    "# if use_gpu:\n",
    "#     model = model.cuda()\n",
    "# # 定义loss和optimizer\n",
    "# criterion = nn.CrossEntropyLoss()\n",
    "# optimizer = optim.SGD(model.parameters(), lr=learning_rate)"
   ]
  },
  {
   "cell_type": "code",
   "execution_count": 3,
   "metadata": {},
   "outputs": [],
   "source": [
    "import pandas as pd\n",
    "import numpy as np\n",
    "import matplotlib.pyplot as plt\n",
    "from sklearn.model_selection import train_test_split\n",
    "from sklearn.model_selection import cross_val_score\n",
    "from sklearn.metrics import mean_squared_error\n",
    "import torch\n",
    "import torch.nn.functional as F\n",
    "\n",
    "dataset = pd.read_csv('/Users/elvis/ITProjects/GitHub/jupyterPY/try_vscode/raw_price_train/1_r_price_train.csv')\n",
    "np_dataset = np.array(dataset)\n",
    "np_dataset = np.delete(np_dataset, 0,axis=1)\n",
    "\n",
    "def preprocess(data,m):\n",
    "    '''\n",
    "    data: the dataframe of stock price\n",
    "    m: the length of sequence\n",
    "    '''\n",
    "    adj_close = dataset[\"Adj Close\"].tolist()\n",
    "    four_d_list_dataset = np_dataset.tolist()\n",
    "    #\n",
    "    res_X = []\n",
    "    res_y = []\n",
    "    # 剔除前4个元素\n",
    "    for i in range(4,len(adj_close)-m):\n",
    "        res_X.append([four_d_list_dataset[i:i+m]])\n",
    "        res_y.append(adj_close[i+m])\n",
    "    return res_X,res_y"
   ]
  },
  {
   "cell_type": "code",
   "execution_count": 4,
   "metadata": {},
   "outputs": [],
   "source": [
    "X,y = preprocess(np_dataset,5)\n",
    "# # print(X)\n",
    "# X = np.reshape(X,(820, 5, 6, 1))"
   ]
  },
  {
   "cell_type": "markdown",
   "metadata": {},
   "source": [
    "### 准备dataloader(dataset)"
   ]
  },
  {
   "cell_type": "code",
   "execution_count": 5,
   "metadata": {},
   "outputs": [],
   "source": [
    "import torchvision\n",
    "from torchvision import datasets, transforms,utils\n",
    "from torch.utils.data import Dataset, DataLoader\n",
    "class ShareDataset(torch.utils.data.Dataset):\n",
    "    def __init__(self, X,y):\n",
    "        self.X = X\n",
    "        self.y = y\n",
    "        \n",
    "    def __getitem__(self, index):\n",
    "        array = np.asarray(self.X[index])\n",
    "        label = torch.from_numpy(np.array(self.y[index]))\n",
    "        data = torch.from_numpy(array)\n",
    "        return data, label\n",
    "    \n",
    "    def __len__(self):\n",
    "        return len(self.X)\n",
    "\n",
    "dataloader = ShareDataset(X,y)\n",
    "# np.shape(np.array(dataloader.X))"
   ]
  },
  {
   "cell_type": "code",
   "execution_count": 6,
   "metadata": {},
   "outputs": [],
   "source": [
    "learning_rate = 0.1\n",
    "model = Cnn(1)  # 数据大小是820 5 6\n",
    "model = model.double()\n",
    "# cost = torch.nn.CrossEntropyLoss()\n",
    "# optimizer = torch.optim.Adam(model.parameters())\n",
    "cost = torch.nn.MSELoss()\n",
    "optimizer = torch.optim.SGD(model.parameters(), lr=0.2)"
   ]
  },
  {
   "cell_type": "code",
   "execution_count": 7,
   "metadata": {},
   "outputs": [
    {
     "name": "stdout",
     "output_type": "stream",
     "text": [
      "Epoch0/5\n",
      "----------\n",
      "tensor([[-0.2761]], dtype=torch.float64, grad_fn=<AddmmBackward>)\n",
      "Loss is :nan,Train Accuracy is:0.0000%,Test Accuracy is:0.0000\n",
      "Epoch1/5\n",
      "----------\n",
      "tensor([[nan]], dtype=torch.float64, grad_fn=<AddmmBackward>)\n",
      "Loss is :nan,Train Accuracy is:0.0000%,Test Accuracy is:0.0000\n",
      "Epoch2/5\n",
      "----------\n",
      "tensor([[nan]], dtype=torch.float64, grad_fn=<AddmmBackward>)\n",
      "Loss is :nan,Train Accuracy is:0.0000%,Test Accuracy is:0.0000\n",
      "Epoch3/5\n",
      "----------\n",
      "tensor([[nan]], dtype=torch.float64, grad_fn=<AddmmBackward>)\n",
      "Loss is :nan,Train Accuracy is:0.0000%,Test Accuracy is:0.0000\n",
      "Epoch4/5\n",
      "----------\n",
      "tensor([[nan]], dtype=torch.float64, grad_fn=<AddmmBackward>)\n",
      "Loss is :nan,Train Accuracy is:0.0000%,Test Accuracy is:0.0000\n"
     ]
    }
   ],
   "source": [
    "n_epochs = 5\n",
    "\n",
    "for epoch in range(n_epochs):\n",
    "    i = 0\n",
    "    running_loss = 0.0\n",
    "    running_correct = 0\n",
    "    print(\"Epoch{}/{}\".format(epoch,n_epochs))\n",
    "    print(\"-\"*10)\n",
    "    for data in dataloader:\n",
    "        #print(\"train ing\")\n",
    "        X_train,y_train = data\n",
    "        X_train,y_train = Variable(torch.unsqueeze(X_train,dim=0)),Variable(y_train)\n",
    "        outputs = model(X_train)\n",
    "        _,pred = torch.max(outputs.data,1)\n",
    "        optimizer.zero_grad()\n",
    "        if(i == 0):\n",
    "            print(outputs)\n",
    "            i = 2\n",
    "        loss = cost(outputs,y_train.unsqueeze(0))\n",
    "        \n",
    "        loss.backward()\n",
    "        optimizer.step()\n",
    "        running_loss += loss.data\n",
    "        running_correct += torch.sum(pred == y_train.data.long())\n",
    "    testing_correct = 0\n",
    "    for data in dataloader:\n",
    "        X_test,y_test = data\n",
    "        X_test,y_test = Variable(torch.unsqueeze(X_test,dim=0)),Variable(y_test)\n",
    "        outputs = model(X_test)\n",
    "        _,pred = torch.max(outputs,1)\n",
    "        testing_correct += torch.sum(pred == y_test.data.long())\n",
    "    print(\"Loss is :{:.4f},Train Accuracy is:{:.4f}%,Test Accuracy is:{:.4f}\".format(running_loss/820,100*running_correct/820,100*testing_correct/820))\n",
    "#     print(\"Loss is :{:.4f},Train Accuracy is:{:.4f}%,Test Accuracy is:{:.4f}\".format(running_loss/len(data_train),100*running_correct/len(data_train),100*testing_correct/len(data_test)))"
   ]
  },
  {
   "cell_type": "code",
   "execution_count": null,
   "metadata": {},
   "outputs": [],
   "source": []
  }
 ],
 "metadata": {
  "kernelspec": {
   "display_name": "Python 3",
   "language": "python",
   "name": "python3"
  },
  "language_info": {
   "codemirror_mode": {
    "name": "ipython",
    "version": 3
   },
   "file_extension": ".py",
   "mimetype": "text/x-python",
   "name": "python",
   "nbconvert_exporter": "python",
   "pygments_lexer": "ipython3",
   "version": "3.7.3"
  }
 },
 "nbformat": 4,
 "nbformat_minor": 4
}
