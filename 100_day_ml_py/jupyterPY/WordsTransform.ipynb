{
 "cells": [
  {
   "cell_type": "code",
   "execution_count": 65,
   "metadata": {},
   "outputs": [],
   "source": [
    "import numpy as np\n",
    "import pandas as pd\n",
    "import os\n",
    "import json\n",
    "from snownlp import SnowNLP "
   ]
  },
  {
   "cell_type": "code",
   "execution_count": null,
   "metadata": {},
   "outputs": [],
   "source": [
    "    "
   ]
  },
  {
   "cell_type": "code",
   "execution_count": 53,
   "metadata": {},
   "outputs": [],
   "source": [
    "# 获取所有文件名\n",
    "filepath = \"tweet_train\\\\\"\n",
    "path_a = []\n",
    "path_b = []\n",
    "path_c = []\n",
    "for i,j,k in os.walk(filepath):\n",
    "    path_a.append(i);\n",
    "    path_b.append(j);\n",
    "    path_c.append(k);"
   ]
  },
  {
   "cell_type": "code",
   "execution_count": 57,
   "metadata": {},
   "outputs": [],
   "source": [
    "# 整理文件名列表\n",
    "path = []\n",
    "for i in range(1,len(path_a)):\n",
    "    temp = []\n",
    "    for j in range(len(path_c[i])):\n",
    "        temp.append(path_a[i]+ \"\\\\\" +path_c[i][j])\n",
    "    path.append(temp)"
   ]
  },
  {
   "cell_type": "code",
   "execution_count": 64,
   "metadata": {},
   "outputs": [],
   "source": [
    "#tweet数据转换成数据框并保存成csv\n",
    "for i in range(len(path)):\n",
    "    tweet_data = pd.DataFrame()\n",
    "    for j in range(len(path[i])):\n",
    "        with open(path[i][j],\"r\") as f:\n",
    "            temp = pd.read_json(path[i][j],lines=True)\n",
    "            temps = [tweet_data,temp]\n",
    "            tweet_data = pd.concat(temps)      \n",
    "    tweet_data.columns = [\"time\",\"text\",\"user_id\"]\n",
    "    tweet_data.sort_values(\"time\",inplace=True)\n",
    "    tweet_data.to_csv(str(i+1)+\"th_tweet_data.csv\",index=False)"
   ]
  },
  {
   "cell_type": "code",
   "execution_count": null,
   "metadata": {},
   "outputs": [],
   "source": []
  }
 ],
 "metadata": {
  "kernelspec": {
   "display_name": "Python 3",
   "language": "python",
   "name": "python3"
  },
  "language_info": {
   "codemirror_mode": {
    "name": "ipython",
    "version": 3
   },
   "file_extension": ".py",
   "mimetype": "text/x-python",
   "name": "python",
   "nbconvert_exporter": "python",
   "pygments_lexer": "ipython3",
   "version": "3.6.4"
  }
 },
 "nbformat": 4,
 "nbformat_minor": 2
}
