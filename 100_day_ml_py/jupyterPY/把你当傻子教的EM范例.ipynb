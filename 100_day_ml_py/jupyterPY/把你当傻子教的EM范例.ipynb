{
 "cells": [
  {
   "cell_type": "markdown",
   "metadata": {},
   "source": [
    "Tan Yifan 2019/11/21"
   ]
  },
  {
   "cell_type": "markdown",
   "metadata": {},
   "source": [
    "$\n",
    "利用条件概率的公式\\\\\n",
    "P(AB)=P(A|B)P(B)=P(B|A)P(A)\n",
    "$"
   ]
  },
  {
   "cell_type": "markdown",
   "metadata": {},
   "source": [
    "$\n",
    "题目概括\\ 若干个点在若干个正态分布上\\\\\n",
    "其中有1,2,3,4,6,7,8七个点\\\\\n",
    "分布1(0,1) 分布2(9,1)两个分布\\\\\n",
    "以及\\pi_1 \\ \\pi_2的值。 \\ \\pi_1代表的意思是任取一个点，这个点属于分布1的概率。\\\\\n",
    "初始值\\pi_1 = 0.5 , \\pi_2 =0.5意味着当前假设七个点里面任意取一个点，它们属于分布1和分布2的概率都是五五开的\\\\通过EM模型的方法来进行拟合\n",
    "$"
   ]
  },
  {
   "cell_type": "markdown",
   "metadata": {},
   "source": [
    "$\n",
    "为了方便符号记忆，下面先定义事件x和事件z 以及事件(x|z)和事件(z|x)\\\\\n",
    "事件P(x):任取一个点，从全局看这个点出现的概率\\\\\n",
    "事件P(z)（即\\pi）:任取一个点在分布k的概率，换句话说，如果这7个点要么属于分布1要么属于分布2，\\pi_1就等价于在分布1的点所占7个点的百分比。\\\\\n",
    "事件P(x|z):假定这个点属于分布z，这个点出现的概率，即正态分布P(x|z)=N(x|\\mu,\\sigma)\\\\\n",
    "事件P(z|x):任取一个点，这个点属于z的概率\\\\\n",
    "note:P(z_1)=\\pi_1,P(x|z_1)=N(x|\\mu_1,\\sigma_1)\\\\\n",
    "定义完了之后，手写一遍以加深印象，我们现在有四个问题。\\\\\n",
    "（1）数学形式的表达\\\\\n",
    "（2）为什么取最大似然，即max P(X)，作为优化的目标。\\\\\n",
    "（3）E-step的计算过程\\\\\n",
    "（4）为什么通过M-step能提高参数质量\\\\\n",
    "$"
   ]
  },
  {
   "cell_type": "markdown",
   "metadata": {},
   "source": [
    "$\n",
    "(1)数学形式的表达 \\\\\n",
    "P(x) 任取一个点，从全局看这个点出现的概率\\\\\n",
    "现在假设模型内只有分布1和分布2，根据条件概率 P(x)=P(x|z)P(z)\\\\\n",
    "因为x要么属于z_1要么属于z_2。所以\\\\\n",
    "P(x)=P(x|z)P(z)=P(x|z_1)P(z_1)+P(x|z_2)P(z_2)\\\\\n",
    "由上面可以知道P(x)=P(x|z)P(z)=P(x|z_1)P(z_1)+P(x|z_2)P(z_2)=\\pi_1N(x|\\mu_1,\\sigma_1)+\\pi_2N(x|\\mu_2,\\sigma_2)\n",
    "$"
   ]
  },
  {
   "cell_type": "markdown",
   "metadata": {},
   "source": [
    "$\n",
    "(2)为什么取max P(X)，作为优化的目标\\\\\n",
    "不管极大似然这个专有名词\\\\\n",
    "光从公式上看P(x)=\\pi_1N(x|\\mu_1,\\sigma_1)+\\pi_2N(x|\\mu_2,\\sigma_2)\\\\\n",
    "抽象出来看，如果不只是2个分布的话，而是K个分布。也就是P(x)=\\sum_{k=1}^K\\pi_kN(x|\\mu_k,\\sigma_k)\\\\\n",
    "现在x是只代表了一个点，而目标函数是P(X)=P(x_1x_2...x_n)，大写意味着是所有点的出现的概率同时发生。\\\\\n",
    "而由于P(x)是概率，所有的概率同时发生之间用乘法连接。因此P(X)=\\prod_{n=1}^N\\sum_{k=1}^K\\pi_kN(x_n|\\mu_k,\\sigma_k)\\\\\n",
    "取最大的P(X)，意味着每一项xn对应的\\pi_k和N(x_n|\\mu_k,\\sigma_k)都要对应增大\\\\\n",
    "从直觉上说，不就是当假设的几个分布与每个点都更加拟合的时候，这个P(X)是最大的\\\\\n",
    "为了方便计算，最后还取了个对数。\\\\\n",
    "$"
   ]
  },
  {
   "cell_type": "markdown",
   "metadata": {},
   "source": [
    "$\n",
    "(3)E-step的计算过程\\\\\n",
    "事件P(x):任取一个点，从全局看这个点出现的概率\\\\\n",
    "事件P(z)（即\\pi）:任取一个点在分布k的概率\\\\\n",
    "事件P(x|z):(x|z)=N(x|\\mu,\\sigma)\\\\\n",
    "事件P(z|x):任取一个点，这个点属于z的概率\\\\\n",
    "note:P(z_1)=\\pi_1,P(x|z_1)=N(x|\\mu_1,\\sigma_1)\\\\\n",
    "现在根据条件概率的公式求后验概率\\\\\n",
    "P(z|x)=\\frac{P(x|z)P(z)}{P(x)}\\\\\n",
    "现在先假设我们要求k=1，即上式可以写成\\\\\n",
    "P(z_1|x)=\\frac{P(x|z_1)P(z_1)}{P(x)}\\\\\n",
    "把上面算过的式子统统都代入进去\\\\\n",
    "P(x)=\\sum_{k=1}^K\\pi_kN(x|\\mu_k,\\sigma_k)\\\\\n",
    "P(z_1)=\\pi_1,P(x|z_1)=N(x|\\mu_1,\\sigma_1)\\\\\n",
    "得出\\\\\n",
    "P(z_1|x)=\\frac{P(x|z_1)P(z_1)}{P(x)}=\\frac{N(x|\\mu_1,\\sigma_1)\\pi_1}{\\sum_{k=1}^K\\pi_kN(x|\\mu_k,\\sigma_k)}\\\\\n",
    "当k=2的时候\\\\\n",
    "P(z_2|x)=\\frac{P(x|z_2)P(z_2)}{P(x)}=\\frac{N(x|\\mu_2,\\sigma_2)\\pi_2}{\\sum_{k=1}^K\\pi_kN(x|\\mu_k,\\sigma_k)}\\\\\n",
    "对于每一个点我们都会计算一次，以进入M-step\n",
    "$"
   ]
  },
  {
   "cell_type": "code",
   "execution_count": 7,
   "metadata": {},
   "outputs": [
    {
     "data": {
      "text/latex": [
       "\n",
       "\\begin{equation}  \n",
       "    \\begin{array}{c}\n",
       "    x & \\gamma(Z_{x1}) & \\gamma(Z_{x2})\\\\\n",
       "    1 & 1 & 0\\\\\n",
       "    2 & 1 & 0\\\\\n",
       "    3 & 1 & 0\\\\\n",
       "    4 & 0.99 & 0.01\\\\\n",
       "    6 & 0 & 1\\\\\n",
       "    7 & 0 & 1\\\\\n",
       "    8 & 0 & 1\\\\\n",
       "    \\end{array}\n",
       "    \\\\\n",
       "\\end{equation}   \n"
      ],
      "text/plain": [
       "<IPython.core.display.Latex object>"
      ]
     },
     "execution_count": 7,
     "metadata": {},
     "output_type": "execute_result"
    }
   ],
   "source": [
    "from IPython.display import Latex\n",
    "Latex(r\"\"\"\n",
    "\\begin{equation}  \n",
    "    \\begin{array}{c}\n",
    "    x & \\gamma(Z_{x1}) & \\gamma(Z_{x2})\\\\\n",
    "    1 & 1 & 0\\\\\n",
    "    2 & 1 & 0\\\\\n",
    "    3 & 1 & 0\\\\\n",
    "    4 & 0.99 & 0.01\\\\\n",
    "    6 & 0 & 1\\\\\n",
    "    7 & 0 & 1\\\\\n",
    "    8 & 0 & 1\\\\\n",
    "    \\end{array}\n",
    "    \\\\\n",
    "\\end{equation}   \n",
    "\"\"\")"
   ]
  },
  {
   "cell_type": "markdown",
   "metadata": {},
   "source": [
    "$\n",
    "（4）为什么通过M-step能提高参数质量\\\\\n",
    "在上面我们求出来的\\gamma(z_ik)=P(z_k|x)的意思是，给定任意一个X，它属于k的概率\\\\\n",
    "M-step主要做一个标准化处理，在新的结论下，对\\gamma作求和，即算出总数以及各个分布下各个x所占的百分比。\\\\\n",
    "比如 现在当k=1时，\\pi_1分布1内成员的百分比是3.99/7=0.57（原先是0.5），分布2同样。\\\\\n",
    "在新的情况下，重新估计两个分布的平均值和方差，我们可以看点1,2,3,4而不是6,7,8。\\\\\n",
    "当k=1时，\\mu_1 被调整为2.5.是因为现在在上一轮计算中模型更多的认为点1,2,3,4在分布1而不是分布2。\\\\\n",
    "因而为了拟合这四个点，就取他们的平均值作为新的正态分布的平均值。方差亦然。\\\\\n",
    "在经过多次的迭代计算后，算出来的两个分布与原来的数据就非常拟合了，因而目标函数P(X)也在不断增加。\n",
    "$"
   ]
  },
  {
   "cell_type": "code",
   "execution_count": 8,
   "metadata": {},
   "outputs": [
    {
     "data": {
      "text/latex": [
       "\n",
       "\\begin{equation}  \n",
       "    k = 1 \\ \\qquad N_1=3.99 \\qquad \\mu_1=\\frac{1}{N_1}\\sum\\gamma(z_{x1})x=2.49 \\qquad \\pi_1=\\frac{3.99}{7}=0.57 \\\\\n",
       "    \\\\ \\sigma^2=\\frac{1}{N_1}\\sum\\gamma_1(x_i-\\mu_1)^2=1.25 \\\\\n",
       "    k = 2 \\ \\qquad N_2=3.01 \\qquad \\mu_2=\\frac{1}{N_2}\\sum\\gamma(z_{x2})x=7 \\qquad \\pi_2=\\frac{3.01}{7}=0.43 \\\\\n",
       "    \\\\ \\sigma^2=\\frac{1}{N_2}\\sum\\gamma_2(x_i-\\mu_2)^2=0.7 \\\\\n",
       "\\end{equation}   \n"
      ],
      "text/plain": [
       "<IPython.core.display.Latex object>"
      ]
     },
     "execution_count": 8,
     "metadata": {},
     "output_type": "execute_result"
    }
   ],
   "source": [
    "Latex(r\"\"\"\n",
    "\\begin{equation}  \n",
    "    k = 1 \\ \\qquad N_1=3.99 \\qquad \\mu_1=\\frac{1}{N_1}\\sum\\gamma(z_{x1})x=2.49 \\qquad \\pi_1=\\frac{3.99}{7}=0.57 \\\\\n",
    "    \\\\ \\sigma^2=\\frac{1}{N_1}\\sum\\gamma_1(x_i-\\mu_1)^2=1.25 \\\\\n",
    "    k = 2 \\ \\qquad N_2=3.01 \\qquad \\mu_2=\\frac{1}{N_2}\\sum\\gamma(z_{x2})x=7 \\qquad \\pi_2=\\frac{3.01}{7}=0.43 \\\\\n",
    "    \\\\ \\sigma^2=\\frac{1}{N_2}\\sum\\gamma_2(x_i-\\mu_2)^2=0.7 \\\\\n",
    "\\end{equation}   \n",
    "\"\"\")"
   ]
  },
  {
   "cell_type": "code",
   "execution_count": null,
   "metadata": {},
   "outputs": [],
   "source": []
  },
  {
   "cell_type": "code",
   "execution_count": null,
   "metadata": {},
   "outputs": [],
   "source": []
  },
  {
   "cell_type": "code",
   "execution_count": null,
   "metadata": {},
   "outputs": [],
   "source": []
  }
 ],
 "metadata": {
  "kernelspec": {
   "display_name": "Python 3",
   "language": "python",
   "name": "python3"
  },
  "language_info": {
   "codemirror_mode": {
    "name": "ipython",
    "version": 3
   },
   "file_extension": ".py",
   "mimetype": "text/x-python",
   "name": "python",
   "nbconvert_exporter": "python",
   "pygments_lexer": "ipython3",
   "version": "3.7.4"
  }
 },
 "nbformat": 4,
 "nbformat_minor": 2
}
